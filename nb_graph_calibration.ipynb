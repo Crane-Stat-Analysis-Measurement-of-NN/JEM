{
 "cells": [
  {
   "cell_type": "code",
   "execution_count": 15,
   "metadata": {},
   "outputs": [],
   "source": [
    "import matplotlib.pyplot as plt\n",
    "import matplotlib.patches as pat\n",
    "import csv\n",
    "import pandas as pd\n",
    "import numpy as np\n",
    "import os"
   ]
  },
  {
   "cell_type": "code",
   "execution_count": 8,
   "metadata": {},
   "outputs": [],
   "source": [
    "#Utility for binning\n",
    "def rrange(start,stop,step=1):\n",
    "    vals=[]\n",
    "    while start<=stop:\n",
    "        vals.append(start)\n",
    "        start+=step\n",
    "    return vals"
   ]
  },
  {
   "cell_type": "code",
   "execution_count": 9,
   "metadata": {},
   "outputs": [],
   "source": [
    "#Gets a dataframe that can be used with the cali_chart_graph function\n",
    "#input is the file with the softmax and correct values, which should be labeled in file\n",
    "def cali_chart_df_prep(filename):\n",
    "    df = pd.read_csv(filename)\n",
    "    df['bin']=pd.cut(df['softmax'],np.linspace(0,1,int(1/0.05)+1),include_lowest=False)\n",
    "    df=df.drop('softmax',axis='columns')\n",
    "    df=df.groupby('bin').mean().reset_index()\n",
    "    df['x']=rrange(0,1,0.05)\n",
    "    df.rename(columns={'correct':'y'},inplace=True)\n",
    "    return df"
   ]
  },
  {
   "cell_type": "code",
   "execution_count": 10,
   "metadata": {},
   "outputs": [],
   "source": [
    "def cali_chart_graph(df, ax):\n",
    "    df.plot.bar('x','y',ax=ax,legend=False)\n",
    "    ax.set_xticklabels(df.bin)\n",
    "    ax.plot([0,20],[0,1],'k--')\n",
    "    ax.set_xlabel('Bins')\n",
    "    ax.set_ylabel('Accuracy')"
   ]
  },
  {
   "cell_type": "code",
   "execution_count": 11,
   "metadata": {},
   "outputs": [],
   "source": [
    "#Specific to a user's needs, may need to change depending on your needs\n",
    "def graph_main(directory):\n",
    "    fig = plt.figure(figsize=(8,9.4))\n",
    "    for i_ax, ev in enumerate(['test','train']):\n",
    "        #Prep the dataframe for ploting\n",
    "        df = cali_chart_df_prep(directory+f'/cali_{ev}.csv')\n",
    "       \n",
    "\n",
    "        #Plot and plot options\n",
    "        ax=fig.add_subplot(2,2,i_ax+1)\n",
    "        cali_chart_graph(df, ax)\n",
    "        ax.set_title(ev.capitalize())\n",
    "    fig.tight_layout()"
   ]
  },
  {
   "cell_type": "code",
   "execution_count": 29,
   "metadata": {},
   "outputs": [
    {
     "data": {
      "text/plain": [
       "array([0.  , 0.05, 0.1 , 0.15, 0.2 , 0.25, 0.3 , 0.35, 0.4 , 0.45, 0.5 ,\n",
       "       0.55, 0.6 , 0.65, 0.7 , 0.75, 0.8 , 0.85, 0.9 , 0.95, 1.  ])"
      ]
     },
     "execution_count": 29,
     "metadata": {},
     "output_type": "execute_result"
    }
   ],
   "source": [
    "np.linspace(0,1,int(1/0.05)+1)"
   ]
  },
  {
   "cell_type": "code",
   "execution_count": 77,
   "metadata": {},
   "outputs": [],
   "source": [
    "#Builds a df with all the columns for ece, including 'ece_comp' which has the values\n",
    "def get_nums(filename):\n",
    "    df = pd.read_csv(filename)\n",
    "    df=df.round(3)\n",
    "    df['bin']=pd.cut(df['softmax'],np.linspace(0,1.05,int(1.05/0.05)+1),include_lowest=False,right=False)\n",
    "    df_a=df.groupby('bin').mean().reset_index()\n",
    "    df_b=df[['bin']].groupby('bin').size().rename('count').reset_index()\n",
    "    df=df_a.merge(df_b,on='bin')\n",
    "    df['x']=rrange(0.025,1.075,0.05)\n",
    "    df['n']=sum(df['count'])\n",
    "    df.rename(columns={'correct':'y'},inplace=True)\n",
    "    df['ece_comp']=df.apply(lambda r : (r['count']/r['n'])*abs(r['y']-r['softmax']),axis=1)\n",
    "    return df"
   ]
  },
  {
   "cell_type": "code",
   "execution_count": 78,
   "metadata": {},
   "outputs": [],
   "source": [
    "#----------------------------------------------------\n",
    "#Add what you want to do with these functions here..."
   ]
  },
  {
   "cell_type": "code",
   "execution_count": 79,
   "metadata": {},
   "outputs": [
    {
     "data": {
      "text/html": [
       "<div>\n",
       "<style scoped>\n",
       "    .dataframe tbody tr th:only-of-type {\n",
       "        vertical-align: middle;\n",
       "    }\n",
       "\n",
       "    .dataframe tbody tr th {\n",
       "        vertical-align: top;\n",
       "    }\n",
       "\n",
       "    .dataframe thead th {\n",
       "        text-align: right;\n",
       "    }\n",
       "</style>\n",
       "<table border=\"1\" class=\"dataframe\">\n",
       "  <thead>\n",
       "    <tr style=\"text-align: right;\">\n",
       "      <th></th>\n",
       "      <th>bin</th>\n",
       "      <th>y</th>\n",
       "      <th>softmax</th>\n",
       "      <th>count</th>\n",
       "      <th>x</th>\n",
       "      <th>n</th>\n",
       "      <th>ece_comp</th>\n",
       "    </tr>\n",
       "  </thead>\n",
       "  <tbody>\n",
       "    <tr>\n",
       "      <th>0</th>\n",
       "      <td>[0.0, 0.05)</td>\n",
       "      <td>NaN</td>\n",
       "      <td>NaN</td>\n",
       "      <td>0</td>\n",
       "      <td>0.025</td>\n",
       "      <td>10000</td>\n",
       "      <td>NaN</td>\n",
       "    </tr>\n",
       "    <tr>\n",
       "      <th>1</th>\n",
       "      <td>[0.05, 0.1)</td>\n",
       "      <td>0.000000</td>\n",
       "      <td>0.082000</td>\n",
       "      <td>3</td>\n",
       "      <td>0.075</td>\n",
       "      <td>10000</td>\n",
       "      <td>0.000025</td>\n",
       "    </tr>\n",
       "    <tr>\n",
       "      <th>2</th>\n",
       "      <td>[0.1, 0.15)</td>\n",
       "      <td>0.128205</td>\n",
       "      <td>0.130769</td>\n",
       "      <td>39</td>\n",
       "      <td>0.125</td>\n",
       "      <td>10000</td>\n",
       "      <td>0.000010</td>\n",
       "    </tr>\n",
       "    <tr>\n",
       "      <th>3</th>\n",
       "      <td>[0.15, 0.2)</td>\n",
       "      <td>0.137405</td>\n",
       "      <td>0.177702</td>\n",
       "      <td>131</td>\n",
       "      <td>0.175</td>\n",
       "      <td>10000</td>\n",
       "      <td>0.000528</td>\n",
       "    </tr>\n",
       "    <tr>\n",
       "      <th>4</th>\n",
       "      <td>[0.2, 0.25)</td>\n",
       "      <td>0.146226</td>\n",
       "      <td>0.225967</td>\n",
       "      <td>212</td>\n",
       "      <td>0.225</td>\n",
       "      <td>10000</td>\n",
       "      <td>0.001691</td>\n",
       "    </tr>\n",
       "    <tr>\n",
       "      <th>5</th>\n",
       "      <td>[0.25, 0.3)</td>\n",
       "      <td>0.270175</td>\n",
       "      <td>0.276116</td>\n",
       "      <td>285</td>\n",
       "      <td>0.275</td>\n",
       "      <td>10000</td>\n",
       "      <td>0.000169</td>\n",
       "    </tr>\n",
       "    <tr>\n",
       "      <th>6</th>\n",
       "      <td>[0.3, 0.35)</td>\n",
       "      <td>0.250765</td>\n",
       "      <td>0.325896</td>\n",
       "      <td>327</td>\n",
       "      <td>0.325</td>\n",
       "      <td>10000</td>\n",
       "      <td>0.002457</td>\n",
       "    </tr>\n",
       "    <tr>\n",
       "      <th>7</th>\n",
       "      <td>[0.35, 0.4)</td>\n",
       "      <td>0.261538</td>\n",
       "      <td>0.375818</td>\n",
       "      <td>325</td>\n",
       "      <td>0.375</td>\n",
       "      <td>10000</td>\n",
       "      <td>0.003714</td>\n",
       "    </tr>\n",
       "    <tr>\n",
       "      <th>8</th>\n",
       "      <td>[0.4, 0.45)</td>\n",
       "      <td>0.375610</td>\n",
       "      <td>0.424161</td>\n",
       "      <td>410</td>\n",
       "      <td>0.425</td>\n",
       "      <td>10000</td>\n",
       "      <td>0.001991</td>\n",
       "    </tr>\n",
       "    <tr>\n",
       "      <th>9</th>\n",
       "      <td>[0.45, 0.5)</td>\n",
       "      <td>0.376068</td>\n",
       "      <td>0.475004</td>\n",
       "      <td>468</td>\n",
       "      <td>0.475</td>\n",
       "      <td>10000</td>\n",
       "      <td>0.004630</td>\n",
       "    </tr>\n",
       "    <tr>\n",
       "      <th>10</th>\n",
       "      <td>[0.5, 0.55)</td>\n",
       "      <td>0.424307</td>\n",
       "      <td>0.523006</td>\n",
       "      <td>469</td>\n",
       "      <td>0.525</td>\n",
       "      <td>10000</td>\n",
       "      <td>0.004629</td>\n",
       "    </tr>\n",
       "    <tr>\n",
       "      <th>11</th>\n",
       "      <td>[0.55, 0.6)</td>\n",
       "      <td>0.502193</td>\n",
       "      <td>0.575684</td>\n",
       "      <td>456</td>\n",
       "      <td>0.575</td>\n",
       "      <td>10000</td>\n",
       "      <td>0.003351</td>\n",
       "    </tr>\n",
       "    <tr>\n",
       "      <th>12</th>\n",
       "      <td>[0.6, 0.65)</td>\n",
       "      <td>0.530093</td>\n",
       "      <td>0.625748</td>\n",
       "      <td>432</td>\n",
       "      <td>0.625</td>\n",
       "      <td>10000</td>\n",
       "      <td>0.004132</td>\n",
       "    </tr>\n",
       "    <tr>\n",
       "      <th>13</th>\n",
       "      <td>[0.65, 0.7)</td>\n",
       "      <td>0.568019</td>\n",
       "      <td>0.675368</td>\n",
       "      <td>419</td>\n",
       "      <td>0.675</td>\n",
       "      <td>10000</td>\n",
       "      <td>0.004498</td>\n",
       "    </tr>\n",
       "    <tr>\n",
       "      <th>14</th>\n",
       "      <td>[0.7, 0.75)</td>\n",
       "      <td>0.644028</td>\n",
       "      <td>0.725056</td>\n",
       "      <td>427</td>\n",
       "      <td>0.725</td>\n",
       "      <td>10000</td>\n",
       "      <td>0.003460</td>\n",
       "    </tr>\n",
       "    <tr>\n",
       "      <th>15</th>\n",
       "      <td>[0.75, 0.8)</td>\n",
       "      <td>0.646799</td>\n",
       "      <td>0.774578</td>\n",
       "      <td>453</td>\n",
       "      <td>0.775</td>\n",
       "      <td>10000</td>\n",
       "      <td>0.005788</td>\n",
       "    </tr>\n",
       "    <tr>\n",
       "      <th>16</th>\n",
       "      <td>[0.8, 0.85)</td>\n",
       "      <td>0.708812</td>\n",
       "      <td>0.826082</td>\n",
       "      <td>522</td>\n",
       "      <td>0.825</td>\n",
       "      <td>10000</td>\n",
       "      <td>0.006121</td>\n",
       "    </tr>\n",
       "    <tr>\n",
       "      <th>17</th>\n",
       "      <td>[0.85, 0.9)</td>\n",
       "      <td>0.844371</td>\n",
       "      <td>0.876132</td>\n",
       "      <td>604</td>\n",
       "      <td>0.875</td>\n",
       "      <td>10000</td>\n",
       "      <td>0.001918</td>\n",
       "    </tr>\n",
       "    <tr>\n",
       "      <th>18</th>\n",
       "      <td>[0.9, 0.95)</td>\n",
       "      <td>0.870264</td>\n",
       "      <td>0.926968</td>\n",
       "      <td>871</td>\n",
       "      <td>0.925</td>\n",
       "      <td>10000</td>\n",
       "      <td>0.004939</td>\n",
       "    </tr>\n",
       "    <tr>\n",
       "      <th>19</th>\n",
       "      <td>[0.95, 1.0)</td>\n",
       "      <td>0.967731</td>\n",
       "      <td>0.984125</td>\n",
       "      <td>2944</td>\n",
       "      <td>0.975</td>\n",
       "      <td>10000</td>\n",
       "      <td>0.004826</td>\n",
       "    </tr>\n",
       "    <tr>\n",
       "      <th>20</th>\n",
       "      <td>[1.0, 1.05)</td>\n",
       "      <td>1.000000</td>\n",
       "      <td>1.000000</td>\n",
       "      <td>203</td>\n",
       "      <td>1.025</td>\n",
       "      <td>10000</td>\n",
       "      <td>0.000000</td>\n",
       "    </tr>\n",
       "  </tbody>\n",
       "</table>\n",
       "</div>"
      ],
      "text/plain": [
       "            bin         y   softmax  count      x      n  ece_comp\n",
       "0   [0.0, 0.05)       NaN       NaN      0  0.025  10000       NaN\n",
       "1   [0.05, 0.1)  0.000000  0.082000      3  0.075  10000  0.000025\n",
       "2   [0.1, 0.15)  0.128205  0.130769     39  0.125  10000  0.000010\n",
       "3   [0.15, 0.2)  0.137405  0.177702    131  0.175  10000  0.000528\n",
       "4   [0.2, 0.25)  0.146226  0.225967    212  0.225  10000  0.001691\n",
       "5   [0.25, 0.3)  0.270175  0.276116    285  0.275  10000  0.000169\n",
       "6   [0.3, 0.35)  0.250765  0.325896    327  0.325  10000  0.002457\n",
       "7   [0.35, 0.4)  0.261538  0.375818    325  0.375  10000  0.003714\n",
       "8   [0.4, 0.45)  0.375610  0.424161    410  0.425  10000  0.001991\n",
       "9   [0.45, 0.5)  0.376068  0.475004    468  0.475  10000  0.004630\n",
       "10  [0.5, 0.55)  0.424307  0.523006    469  0.525  10000  0.004629\n",
       "11  [0.55, 0.6)  0.502193  0.575684    456  0.575  10000  0.003351\n",
       "12  [0.6, 0.65)  0.530093  0.625748    432  0.625  10000  0.004132\n",
       "13  [0.65, 0.7)  0.568019  0.675368    419  0.675  10000  0.004498\n",
       "14  [0.7, 0.75)  0.644028  0.725056    427  0.725  10000  0.003460\n",
       "15  [0.75, 0.8)  0.646799  0.774578    453  0.775  10000  0.005788\n",
       "16  [0.8, 0.85)  0.708812  0.826082    522  0.825  10000  0.006121\n",
       "17  [0.85, 0.9)  0.844371  0.876132    604  0.875  10000  0.001918\n",
       "18  [0.9, 0.95)  0.870264  0.926968    871  0.925  10000  0.004939\n",
       "19  [0.95, 1.0)  0.967731  0.984125   2944  0.975  10000  0.004826\n",
       "20  [1.0, 1.05)  1.000000  1.000000    203  1.025  10000  0.000000"
      ]
     },
     "execution_count": 79,
     "metadata": {},
     "output_type": "execute_result"
    }
   ],
   "source": [
    "get_nums('./production_cali_cf100/theirs/run1/cali_test.csv')\n"
   ]
  },
  {
   "cell_type": "code",
   "execution_count": 80,
   "metadata": {},
   "outputs": [],
   "source": [
    "def gettitle(exp,ev):\n",
    "    if exp=='theirs':\n",
    "        return f'SGLD for {ev} data'\n",
    "    if exp=='ours':\n",
    "        return f'Energy variance for {ev} data'\n",
    "    if exp=='baseline':\n",
    "        return f'Baseline X-entropy for {ev} data'\n",
    "    return \"\""
   ]
  },
  {
   "cell_type": "code",
   "execution_count": 137,
   "metadata": {},
   "outputs": [
    {
     "name": "stderr",
     "output_type": "stream",
     "text": [
      "/usr/local/lib/python3.8/dist-packages/pandas/core/frame.py:9186: FutureWarning: Passing 'suffixes' which cause duplicate columns {'y_10', 'softmax_10', 'count_10', 'ece_comp_10', 'n_10'} in the result is deprecated and will raise a MergeError in a future version.\n",
      "  return merge(\n"
     ]
    },
    {
     "data": {
      "image/png": "[encoded data removed]",
      "text/plain": [
       "<Figure size 396x360 with 1 Axes>"
      ]
     },
     "metadata": {
      "needs_background": "light"
     },
     "output_type": "display_data"
    },
    {
     "data": {
      "image/png": "[encoded data removed]",
      "text/plain": [
       "<Figure size 396x360 with 1 Axes>"
      ]
     },
     "metadata": {
      "needs_background": "light"
     },
     "output_type": "display_data"
    }
   ],
   "source": [
    "eces_t=[]\n",
    "df = None\n",
    "#ev='test'\n",
    "for exp in ['baseline']:\n",
    "    for ev in ['test','train']:\n",
    "        for a in [1,2,3,4,5,6,7,8,9,11]:\n",
    "            if exp=='theirs' or exp == 'baseline':\n",
    "                run = 'run'\n",
    "            else:\n",
    "                run = 'cvrlrun'\n",
    "            tdf=get_nums(f'./production_cali_cf100/{exp}/{run}{str(a)}/cali_{ev}.csv')\n",
    "            eces_t.append(tdf['ece_comp'].sum())\n",
    "            if df is None:\n",
    "                df = tdf\n",
    "            else:\n",
    "                df = df.merge(tdf,on=('bin','x'),suffixes=('_'+str(a-1),'_'+str(a)))\n",
    "        ys=[i for i in df.columns if i[0]=='y']\n",
    "        df['mean']=df[ys].mean(axis=1)\n",
    "        df['sd']=df[ys].std(axis=1)\n",
    "\n",
    "        yline=rrange(-0.025,1.075,0.05)\n",
    "        yline[0]=0\n",
    "        yline[21]=1\n",
    "        xline=rrange(-1,20,1)\n",
    "        xline[0]=-.5\n",
    "        binl=['[0.0, 0.05)','[0.05, 0.1)','[0.1, 0.15)','[0.15, 0.2)','[0.2, 0.25)','[0.25, 0.3)','[0.3, 0.35)','[0.35, 0.4)','[0.4, 0.45)','[0.45, 0.5)','[0.5, 0.55)','[0.55, 0.6)','[0.6, 0.65)','[0.65, 0.7)','[0.7, 0.75)','[0.75, 0.8)','[0.8, 0.85)','[0.85, 0.9)','[0.9, 0.95)','[0.95, 1.0)','[1]']\n",
    "        fig = plt.figure(figsize=(5.5,5))\n",
    "        plt.rcParams.update({'font.size': 18})\n",
    "        plt.rc('xtick', labelsize=14) \n",
    "        plt.rc('ytick', labelsize=14) \n",
    "        ax=plt.gca()\n",
    "        df.plot.bar('x','mean',ax=ax,legend=False,yerr='sd')\n",
    "        ax.set_xticklabels(binl)\n",
    "        ax.plot(xline,yline,'k--')\n",
    "        #ax.plot(rrange(0.5,20.5,1),rrange(0,1.05,.05),'k--')\n",
    "        #ax.plot(xline,rrange(0.0,1.10,.05),'r--')\n",
    "        ax.set_ylim([0,1])\n",
    "        ax.set_xlim([-.5,20.5])\n",
    "        ax.set_xlabel('Bins')\n",
    "        ax.set_ylabel('Accuracy')\n",
    "        ax.set_title(gettitle(exp,ev))\n"
   ]
  },
  {
   "cell_type": "code",
   "execution_count": 12,
   "metadata": {},
   "outputs": [
    {
     "data": {
      "text/plain": [
       "9.190324076936015"
      ]
     },
     "execution_count": 12,
     "metadata": {},
     "output_type": "execute_result"
    }
   ],
   "source": [
    "df['mean'].sum()"
   ]
  },
  {
   "cell_type": "code",
   "execution_count": 104,
   "metadata": {},
   "outputs": [
    {
     "data": {
      "text/plain": [
       "22"
      ]
     },
     "execution_count": 104,
     "metadata": {},
     "output_type": "execute_result"
    }
   ],
   "source": [
    "xline=rrange(-1,20,1)\n",
    "xline[0]=-.5\n",
    "len(xline)"
   ]
  },
  {
   "cell_type": "code",
   "execution_count": 105,
   "metadata": {},
   "outputs": [
    {
     "data": {
      "text/plain": [
       "22"
      ]
     },
     "execution_count": 105,
     "metadata": {},
     "output_type": "execute_result"
    }
   ],
   "source": [
    "yline=rrange(-0.025,1.075,0.05)\n",
    "yline[0]=0\n",
    "yline[21]=1\n",
    "len(yline)"
   ]
  },
  {
   "cell_type": "code",
   "execution_count": 129,
   "metadata": {},
   "outputs": [
    {
     "data": {
      "text/plain": [
       "[0,\n",
       " 0.05,\n",
       " 0.1,\n",
       " 0.15000000000000002,\n",
       " 0.2,\n",
       " 0.25,\n",
       " 0.3,\n",
       " 0.35,\n",
       " 0.39999999999999997,\n",
       " 0.44999999999999996,\n",
       " 0.49999999999999994,\n",
       " 0.5499999999999999,\n",
       " 0.6,\n",
       " 0.65,\n",
       " 0.7000000000000001,\n",
       " 0.7500000000000001,\n",
       " 0.8000000000000002,\n",
       " 0.8500000000000002,\n",
       " 0.9000000000000002,\n",
       " 0.9500000000000003,\n",
       " 1.0000000000000002]"
      ]
     },
     "execution_count": 129,
     "metadata": {},
     "output_type": "execute_result"
    }
   ],
   "source": [
    "rrange(0,1.05,.05)"
   ]
  },
  {
   "cell_type": "code",
   "execution_count": null,
   "metadata": {},
   "outputs": [],
   "source": []
  },
  {
   "cell_type": "code",
   "execution_count": 15,
   "metadata": {},
   "outputs": [
    {
     "data": {
      "text/plain": [
       "Text(0.5, 1.0, 'New study calibration')"
      ]
     },
     "execution_count": 15,
     "metadata": {},
     "output_type": "execute_result"
    },
    {
     "data": {
      "image/png": "[encoded data removed]",
      "text/plain": [
       "<Figure size 576x576 with 1 Axes>"
      ]
     },
     "metadata": {
      "needs_background": "light"
     },
     "output_type": "display_data"
    }
   ],
   "source": [
    "eces_o=[]\n",
    "df = None\n",
    "ev='test'\n",
    "for a in range(1,6):\n",
    "    tdf=get_nums('./production/ours'+str(a)+'/cali_test.csv')\n",
    "    eces_o.append(tdf['ece_comp'].sum())\n",
    "    if df is None:\n",
    "        df = tdf\n",
    "    else:\n",
    "        df = df.merge(tdf,on=('bin','x'),suffixes=('_'+str(a-1),'_'+str(a)))\n",
    "ys=[i for i in df.columns if i[0]=='y']\n",
    "df['mean']=df[ys].mean(axis=1)\n",
    "df['sd']=df[ys].std(axis=1)\n",
    "\n",
    "\n",
    "fig = plt.figure(figsize=(8,8))\n",
    "plt.rcParams.update({'font.size': 22})\n",
    "plt.rc('xtick', labelsize=16) \n",
    "plt.rc('ytick', labelsize=16) \n",
    "ax=plt.gca()\n",
    "df.plot.bar('x','mean',ax=ax,legend=False,yerr='sd')\n",
    "ax.set_xticklabels(df.bin)\n",
    "ax.plot([0,20],[0,1],'k--')\n",
    "ax.set_ylim([0,1])\n",
    "ax.set_xlabel('Bins')\n",
    "ax.set_ylabel('Accuracy')\n",
    "ax.set_title(\"New study calibration\")"
   ]
  },
  {
   "cell_type": "code",
   "execution_count": 12,
   "metadata": {},
   "outputs": [],
   "source": [
    "from scipy.stats import wilcoxon\n",
    "from statsmodels.stats.multitest import fdrcorrection"
   ]
  },
  {
   "cell_type": "code",
   "execution_count": 236,
   "metadata": {},
   "outputs": [
    {
     "name": "stdout",
     "output_type": "stream",
     "text": [
      "/usr/lib/python3/dist-packages/secretstorage/dhcrypto.py:15: CryptographyDeprecationWarning: int_from_bytes is deprecated, use int.from_bytes instead\n",
      "  from cryptography.utils import int_from_bytes\n",
      "/usr/lib/python3/dist-packages/secretstorage/util.py:19: CryptographyDeprecationWarning: int_from_bytes is deprecated, use int.from_bytes instead\n",
      "  from cryptography.utils import int_from_bytes\n",
      "Collecting statsmodels\n",
      "  Downloading statsmodels-0.13.1-cp38-cp38-manylinux_2_17_x86_64.manylinux2014_x86_64.whl (9.9 MB)\n",
      "\u001b[K     |████████████████████████████████| 9.9 MB 7.2 kB/s eta 0:00:01\n",
      "\u001b[?25hRequirement already satisfied: numpy>=1.17 in /usr/local/lib/python3.8/dist-packages (from statsmodels) (1.21.0)\n",
      "Requirement already satisfied: scipy>=1.3 in /usr/local/lib/python3.8/dist-packages (from statsmodels) (1.7.0)\n",
      "Collecting patsy>=0.5.2\n",
      "  Downloading patsy-0.5.2-py2.py3-none-any.whl (233 kB)\n",
      "\u001b[K     |████████████████████████████████| 233 kB 112.9 MB/s eta 0:00:01\n",
      "\u001b[?25hRequirement already satisfied: pandas>=0.25 in /usr/local/lib/python3.8/dist-packages (from statsmodels) (1.3.0)\n",
      "Requirement already satisfied: six in /usr/lib/python3/dist-packages (from patsy>=0.5.2->statsmodels) (1.14.0)\n",
      "Requirement already satisfied: pytz>=2017.3 in /usr/lib/python3/dist-packages (from pandas>=0.25->statsmodels) (2019.3)\n",
      "Requirement already satisfied: python-dateutil>=2.7.3 in /usr/local/lib/python3.8/dist-packages (from pandas>=0.25->statsmodels) (2.8.1)\n",
      "Installing collected packages: patsy, statsmodels\n",
      "Successfully installed patsy-0.5.2 statsmodels-0.13.1\n"
     ]
    }
   ],
   "source": [
    "#import sys\n",
    "#!{sys.executable}  -m pip install statsmodels"
   ]
  },
  {
   "cell_type": "code",
   "execution_count": 186,
   "metadata": {},
   "outputs": [
    {
     "data": {
      "text/plain": [
       "WilcoxonResult(statistic=6.0, pvalue=0.8125)"
      ]
     },
     "execution_count": 186,
     "metadata": {},
     "output_type": "execute_result"
    }
   ],
   "source": [
    "wilcoxon(eces_t,eces_o)"
   ]
  },
  {
   "cell_type": "code",
   "execution_count": 16,
   "metadata": {},
   "outputs": [],
   "source": [
    "ms=[np.mean(eces_t),np.mean(eces_o)]\n",
    "stds=[np.std(eces_t),np.std(eces_o)]"
   ]
  },
  {
   "cell_type": "code",
   "execution_count": 17,
   "metadata": {},
   "outputs": [
    {
     "data": {
      "text/plain": [
       "[0.03601633931994437, 0.03713363867044446]"
      ]
     },
     "execution_count": 17,
     "metadata": {},
     "output_type": "execute_result"
    }
   ],
   "source": [
    "ms"
   ]
  },
  {
   "cell_type": "code",
   "execution_count": 220,
   "metadata": {},
   "outputs": [
    {
     "data": {
      "text/plain": [
       "Text(0.5, 1.0, 'ECE comparison')"
      ]
     },
     "execution_count": 220,
     "metadata": {},
     "output_type": "execute_result"
    },
    {
     "data": {
      "image/png": "[encoded data removed]",
      "text/plain": [
       "<Figure size 576x576 with 1 Axes>"
      ]
     },
     "metadata": {
      "needs_background": "light"
     },
     "output_type": "display_data"
    }
   ],
   "source": [
    "fig = plt.figure(figsize=(8,8))\n",
    "plt.rcParams.update({'font.size': 22})\n",
    "plt.rc('xtick', labelsize=16) \n",
    "plt.rc('ytick', labelsize=16) \n",
    "ax=plt.gca()\n",
    "ax.scatter([0,1],ms,s=100)\n",
    "ax.errorbar([0,1],ms,yerr=stds,fmt='none',elinewidth=2)\n",
    "ax.set_ylim([0,.1])\n",
    "ax.set_xlim([-.5,1.5])\n",
    "ax.set_ylabel('ECE')\n",
    "ax.set_xticks([0,1])\n",
    "ax.set_xticklabels(['Previous','New'])\n",
    "ax.set_title(\"ECE comparison\")"
   ]
  },
  {
   "cell_type": "code",
   "execution_count": 8,
   "metadata": {},
   "outputs": [],
   "source": [
    "tpxg = [0.6479335855869699,0.6891187442378611,0.7267265192839583,0.6990380838967425,0.4763362380915795]\n",
    "opxg = [0.8865400411032576,0.792745586201598,0.8159975280424094,0.8264703576367549,0.8044875864320836]\n",
    "tpy  = [0.8921300303472648,0.8625806180854332,0.8900458166871543,0.8965590388752305,0.7531804567455439]\n",
    "opy  = [0.9055193838352796,0.9049090254302397,0.8956089658881378,0.8656058793023971,0.8830804797940996]"
   ]
  },
  {
   "cell_type": "code",
   "execution_count": 14,
   "metadata": {},
   "outputs": [],
   "source": [
    "tpxg = [0.7323936501229257,0.7325102201137061,0.5550168043177628, \\\n",
    "        0.6775620371081745,0.7326802147357099,0.7663783766133989, \\\n",
    "        0.05409866318377382,0.15068139405347264,0.7232798037031346, \\\n",
    "        0.7201956226951445,0.7007386312999386,0.7571406518899816]\n",
    "opxg = [0.8452818761524277,0.8729070759065765,0.8822532863398893, \\\n",
    "        0.886712444299324,0.8861011428242164,0.8695366779348493, \\\n",
    "        0.8314708224492932,0.8812382951751689,0.8847503015519361, \\\n",
    "        0.8887251037185003,0.8793465119852488,0.8725308428088507]\n",
    "bpxg = [0.030525412953288263,0.031696237323294414,0.08207852066687155, \\\n",
    "       0.03274180239704978,0.09539938345113708,0.04004191571911494, \\\n",
    "       0.08848035302704364,0.053582091272280266,0.08961529847879533, \\\n",
    "       0.0382797057467732,0.03322507106637984,0.04814673670866626]\n",
    "tpy  = []\n",
    "opy  = []\n",
    "bpy  = []"
   ]
  },
  {
   "cell_type": "code",
   "execution_count": 13,
   "metadata": {},
   "outputs": [
    {
     "data": {
      "text/plain": [
       "0.8909447468500307"
      ]
     },
     "execution_count": 13,
     "metadata": {},
     "output_type": "execute_result"
    }
   ],
   "source": [
    "np.mean(opy)"
   ]
  },
  {
   "cell_type": "code",
   "execution_count": 21,
   "metadata": {},
   "outputs": [
    {
     "name": "stdout",
     "output_type": "stream",
     "text": [
      "----\n"
     ]
    },
    {
     "data": {
      "text/plain": [
       "(array([False,  True,  True, False, False,  True]),\n",
       " array([1.00000000e+00, 7.32421875e-04, 9.76562500e-04, 1.00000000e+00,\n",
       "        1.00000000e+00, 7.32421875e-04]))"
      ]
     },
     "execution_count": 21,
     "metadata": {},
     "output_type": "execute_result"
    },
    {
     "data": {
      "image/png": "[encoded data removed]",
      "text/plain": [
       "<Figure size 576x576 with 1 Axes>"
      ]
     },
     "metadata": {
      "needs_background": "light"
     },
     "output_type": "display_data"
    }
   ],
   "source": [
    "ms   = [np.mean(bpxg),np.mean(tpxg),np.mean(opxg)]\n",
    "stds = [np.std(bpxg),np.std(tpxg),np.std(opxg)]\n",
    "\n",
    "fig = plt.figure(figsize=(8,8))\n",
    "plt.rcParams.update({'font.size': 22})\n",
    "plt.rc('xtick', labelsize=16) \n",
    "plt.rc('ytick', labelsize=16) \n",
    "ax=plt.gca()\n",
    "ax.scatter([0,1,2],ms,s=100)\n",
    "ax.errorbar([0,1,2],ms,yerr=stds,fmt='none',elinewidth=2)\n",
    "#ax.set_ylim([0,.1])\n",
    "ax.set_xlim([-.5,2.5])\n",
    "ax.set_ylabel('Approx. mass')\n",
    "ax.set_xticks([0,1,2])\n",
    "ax.set_xticklabels(['Baseline','Previous','New'])\n",
    "ax.set_title(\"Approx. mass OOD\")\n",
    "\n",
    "p_pxg=[wilcoxon(tpxg,opxg,alternative='greater')[1],wilcoxon(opxg,tpxg,alternative='greater')[1],\n",
    "      wilcoxon(tpxg,bpxg,alternative='greater')[1],wilcoxon(bpxg,tpxg,alternative='greater')[1],\n",
    "      wilcoxon(bpxg,opxg,alternative='greater')[1],wilcoxon(opxg,bpxg,alternative='greater')[1]]\n",
    "print('----')\n",
    "fdrcorrection(p_pxg)"
   ]
  },
  {
   "cell_type": "code",
   "execution_count": 11,
   "metadata": {},
   "outputs": [
    {
     "data": {
      "text/plain": [
       "(array([False, False]), array([0.15625, 0.15625]))"
      ]
     },
     "execution_count": 11,
     "metadata": {},
     "output_type": "execute_result"
    },
    {
     "data": {
      "image/png": "[encoded data removed]",
      "text/plain": [
       "<Figure size 576x576 with 1 Axes>"
      ]
     },
     "metadata": {
      "needs_background": "light"
     },
     "output_type": "display_data"
    }
   ],
   "source": [
    "ms   = [np.mean(tpy),np.mean(opy)]\n",
    "stds = [np.std(tpy),np.std(opy)]\n",
    "\n",
    "fig = plt.figure(figsize=(8,8))\n",
    "plt.rcParams.update({'font.size': 22})\n",
    "plt.rc('xtick', labelsize=16) \n",
    "plt.rc('ytick', labelsize=16) \n",
    "ax=plt.gca()\n",
    "ax.scatter([0,1],ms,s=100)\n",
    "ax.errorbar([0,1],ms,yerr=stds,fmt='none',elinewidth=2)\n",
    "#ax.set_ylim([0,.1])\n",
    "ax.set_xlim([-.5,1.5])\n",
    "ax.set_ylabel('Predictive distribution')\n",
    "ax.set_xticks([0,1])\n",
    "ax.set_xticklabels(['Previous','New'])\n",
    "ax.set_title(\"Predictive distribution OOD\")\n",
    "\n",
    "p_pxg=[wilcoxon(tpy,opy,alternative='less')[1],wilcoxon(tpy,opy,alternative='less')[1]]\n",
    "fdrcorrection(p_pxg)"
   ]
  },
  {
   "cell_type": "code",
   "execution_count": null,
   "metadata": {},
   "outputs": [],
   "source": []
  }
 ],
 "metadata": {
  "kernelspec": {
   "display_name": "Python 3 (ipykernel)",
   "language": "python",
   "name": "python3"
  },
  "language_info": {
   "codemirror_mode": {
    "name": "ipython",
    "version": 3
   },
   "file_extension": ".py",
   "mimetype": "text/x-python",
   "name": "python",
   "nbconvert_exporter": "python",
   "pygments_lexer": "ipython3",
   "version": "3.8.10"
  }
 },
 "nbformat": 4,
 "nbformat_minor": 4
}
