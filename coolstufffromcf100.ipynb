{
 "cells": [
  {
   "cell_type": "code",
   "execution_count": 1,
   "id": "0d35baeb",
   "metadata": {},
   "outputs": [],
   "source": [
    "# imports\n",
    "import utils # from The Google Research Authors\n",
    "import torch as t, torch.nn as nn, torch.nn.functional as tnnF, torch.distributions as tdist\n",
    "from torch.utils.data import DataLoader, Dataset\n",
    "import torchvision as tv, torchvision.transforms as tr\n",
    "import os\n",
    "import sys\n",
    "#import ipdb\n",
    "import numpy as np\n",
    "import wideresnet # from The Google Research Authors\n",
    "import json\n",
    "import re\n",
    "import pandas as pd\n",
    "\n",
    "%matplotlib inline\n",
    "import utils\n",
    "import torch as t, torch.nn as nn\n",
    "from torch.utils.data import DataLoader, Dataset\n",
    "import torchvision as tv, torchvision.transforms as tr\n",
    "import os\n",
    "import sys\n",
    "import argparse\n",
    "import numpy as np\n",
    "import wideresnet\n",
    "import pdb\n",
    "from matplotlib import pyplot as plt\n",
    "import random"
   ]
  },
  {
   "cell_type": "code",
   "execution_count": 1,
   "id": "d4d0e5a8",
   "metadata": {},
   "outputs": [
    {
     "data": {
      "text/plain": [
       "'/usr/local/anaconda3/envs/JEM/bin/python'"
      ]
     },
     "execution_count": 1,
     "metadata": {},
     "output_type": "execute_result"
    }
   ],
   "source": [
    "import sys\n",
    "sys.executable"
   ]
  },
  {
   "cell_type": "code",
   "execution_count": 3,
   "id": "973ff823",
   "metadata": {},
   "outputs": [
    {
     "ename": "NameError",
     "evalue": "name 'pd' is not defined",
     "output_type": "error",
     "traceback": [
      "\u001b[0;31m---------------------------------------------------------------------------\u001b[0m",
      "\u001b[0;31mNameError\u001b[0m                                 Traceback (most recent call last)",
      "\u001b[0;32m/tmp/ipykernel_95343/3685281308.py\u001b[0m in \u001b[0;36m<module>\u001b[0;34m\u001b[0m\n\u001b[1;32m     52\u001b[0m \u001b[0;34m\u001b[0m\u001b[0m\n\u001b[1;32m     53\u001b[0m \u001b[0mpath\u001b[0m \u001b[0;34m=\u001b[0m \u001b[0mos\u001b[0m\u001b[0;34m.\u001b[0m\u001b[0mpath\u001b[0m\u001b[0;34m.\u001b[0m\u001b[0mjoin\u001b[0m\u001b[0;34m\u001b[0m\u001b[0;34m\u001b[0m\u001b[0m\n\u001b[0;32m---> 54\u001b[0;31m \u001b[0mtimedf\u001b[0m \u001b[0;34m=\u001b[0m \u001b[0mpd\u001b[0m\u001b[0;34m.\u001b[0m\u001b[0mDataFrame\u001b[0m\u001b[0;34m(\u001b[0m\u001b[0mcolumns\u001b[0m\u001b[0;34m=\u001b[0m\u001b[0;34m[\u001b[0m\u001b[0;34m'exp'\u001b[0m\u001b[0;34m,\u001b[0m\u001b[0;34m'run'\u001b[0m\u001b[0;34m,\u001b[0m\u001b[0;34m'best_epoch'\u001b[0m\u001b[0;34m,\u001b[0m\u001b[0;34m'total_time'\u001b[0m\u001b[0;34m,\u001b[0m\u001b[0;34m'time_til_best'\u001b[0m\u001b[0;34m,\u001b[0m\u001b[0;34m'epochs'\u001b[0m\u001b[0;34m,\u001b[0m\u001b[0;34m'ave_best'\u001b[0m\u001b[0;34m,\u001b[0m\u001b[0;34m'ave_all'\u001b[0m\u001b[0;34m]\u001b[0m\u001b[0;34m)\u001b[0m\u001b[0;34m\u001b[0m\u001b[0;34m\u001b[0m\u001b[0m\n\u001b[0m\u001b[1;32m     55\u001b[0m \u001b[0mbasedir\u001b[0m \u001b[0;34m=\u001b[0m \u001b[0;34m'./production_cali_cf100/'\u001b[0m\u001b[0;34m\u001b[0m\u001b[0;34m\u001b[0m\u001b[0m\n\u001b[1;32m     56\u001b[0m \u001b[0;32mfor\u001b[0m \u001b[0mexp\u001b[0m \u001b[0;32min\u001b[0m \u001b[0;34m[\u001b[0m\u001b[0;34m'theirs'\u001b[0m\u001b[0;34m,\u001b[0m\u001b[0;34m'ours'\u001b[0m\u001b[0;34m,\u001b[0m\u001b[0;34m'baseline'\u001b[0m\u001b[0;34m]\u001b[0m\u001b[0;34m:\u001b[0m\u001b[0;34m\u001b[0m\u001b[0;34m\u001b[0m\u001b[0m\n",
      "\u001b[0;31mNameError\u001b[0m: name 'pd' is not defined"
     ]
    }
   ],
   "source": [
    "def get_exp_dirs(basedir,exp,verbose=True):\n",
    "    pre = 'run' if exp!='ours' else 'cvr'\n",
    "    load_dirs = [i for i in os.listdir(os.path.join(basedir,exp)) if i[0:3]==pre]\n",
    "    if verbose: print(load_dirs)\n",
    "    return load_dirs\n",
    "\n",
    "def set_check_flag(exp):\n",
    "    ipt = input(f'Check epoch times for {exp}? (y/n) ')\n",
    "    if ipt==\"y\":\n",
    "        return True\n",
    "    else:\n",
    "        return False\n",
    "\n",
    "def manual_search_start(df):\n",
    "    starts = np.where(df[:,0]=='start')[0]\n",
    "    print(f'We have starts at {starts}. Total rows: {df.shape[0]}.')\n",
    "    start=0\n",
    "    if df.shape[0]!=201: \n",
    "        start = int(input('Which start to use? (int)'))\n",
    "        #margin = int(input('Enter number of surrounding rows to see: (0+) '))\n",
    "        #output_starts(df,starts,margin)\n",
    "    return start\n",
    "\n",
    "def output_starts(df,starts,margin):\n",
    "    for start in starts:\n",
    "        start = int(start)\n",
    "        for row in range((start-margin),(start+margin+1)):\n",
    "            if row>=0 and row<df.shape[0]: print(row,\" -- \",df[row,])\n",
    "        print(\"\\n\") \n",
    "    \n",
    "def process_times(df,start,best_epoch):\n",
    "    timesum, besttimesum, epoch_count = (0,0,0)\n",
    "    for row in range(start,df.shape[0]):\n",
    "            if df[row,0] != 'start':\n",
    "                epoch_time = df[row,1]-df[row-1,1]\n",
    "                if int(df[row,0]) <= best_epoch: besttimesum+=epoch_time\n",
    "                timesum += epoch_time\n",
    "                epoch_count += 1\n",
    "    return timesum, besttimesum, epoch_count\n",
    "       \n",
    "def get_exp_name(exp):\n",
    "    if exp=='theirs':\n",
    "        return 'SGLD'\n",
    "    elif exp=='ours':\n",
    "        return 'E. Var.'\n",
    "    elif exp=='baseline':\n",
    "        return 'Baseline'\n",
    "    else:\n",
    "        return 'error'\n",
    "    \n",
    "    \n",
    "    \n",
    "path = os.path.join    \n",
    "timedf = pd.DataFrame(columns=['exp','run','best_epoch','total_time','time_til_best','epochs','ave_best','ave_all'])\n",
    "basedir = './production_cali_cf100/'\n",
    "for exp in ['theirs','ours','baseline']:\n",
    "    load_dirs = get_exp_dirs(basedir,exp)\n",
    "\n",
    "\n",
    "    check_input = set_check_flag(exp)\n",
    "    for load_dir in load_dirs:\n",
    "        ldir = path(basedir,exp,load_dir)\n",
    "        best_epoch=int(t.load(path(ldir,'best_valid_ckpt.pt'))['epoch'])\n",
    "        df=pd.read_csv(path(ldir,'epoch_times.csv'),header=None).to_numpy()\n",
    "\n",
    "        start=0\n",
    "        if check_input==True: start=manual_search_start(df)\n",
    "        timesum, besttimesum, epoch_count = process_times(df,start,best_epoch)\n",
    "        timedf.loc[len(timedf.index)] = [get_exp_name(exp), load_dir, best_epoch, timesum, besttimesum, epoch_count,besttimesum/best_epoch,timesum/epoch_count]\n",
    "\n",
    "    \n"
   ]
  },
  {
   "cell_type": "code",
   "execution_count": 49,
   "id": "d5b819de",
   "metadata": {},
   "outputs": [
    {
     "data": {
      "text/html": [
       "<div>\n",
       "<style scoped>\n",
       "    .dataframe tbody tr th:only-of-type {\n",
       "        vertical-align: middle;\n",
       "    }\n",
       "\n",
       "    .dataframe tbody tr th {\n",
       "        vertical-align: top;\n",
       "    }\n",
       "\n",
       "    .dataframe thead th {\n",
       "        text-align: right;\n",
       "    }\n",
       "</style>\n",
       "<table border=\"1\" class=\"dataframe\">\n",
       "  <thead>\n",
       "    <tr style=\"text-align: right;\">\n",
       "      <th></th>\n",
       "      <th>exp</th>\n",
       "      <th>run</th>\n",
       "      <th>best_epoch</th>\n",
       "      <th>total_time</th>\n",
       "      <th>time_til_best</th>\n",
       "      <th>epochs</th>\n",
       "      <th>ave_best</th>\n",
       "      <th>ave_all</th>\n",
       "    </tr>\n",
       "  </thead>\n",
       "  <tbody>\n",
       "    <tr>\n",
       "      <th>0</th>\n",
       "      <td>SGLD</td>\n",
       "      <td>run1</td>\n",
       "      <td>54</td>\n",
       "      <td>123449.680339</td>\n",
       "      <td>109202.645804</td>\n",
       "      <td>200</td>\n",
       "      <td>2022.271219</td>\n",
       "      <td>617.248402</td>\n",
       "    </tr>\n",
       "    <tr>\n",
       "      <th>1</th>\n",
       "      <td>SGLD</td>\n",
       "      <td>run4</td>\n",
       "      <td>35</td>\n",
       "      <td>77983.924389</td>\n",
       "      <td>72062.188021</td>\n",
       "      <td>200</td>\n",
       "      <td>2058.919658</td>\n",
       "      <td>389.919622</td>\n",
       "    </tr>\n",
       "    <tr>\n",
       "      <th>2</th>\n",
       "      <td>SGLD</td>\n",
       "      <td>run3</td>\n",
       "      <td>15</td>\n",
       "      <td>39495.340837</td>\n",
       "      <td>32140.937530</td>\n",
       "      <td>200</td>\n",
       "      <td>2142.729169</td>\n",
       "      <td>197.476704</td>\n",
       "    </tr>\n",
       "    <tr>\n",
       "      <th>3</th>\n",
       "      <td>SGLD</td>\n",
       "      <td>run2</td>\n",
       "      <td>51</td>\n",
       "      <td>117000.479673</td>\n",
       "      <td>103204.923739</td>\n",
       "      <td>200</td>\n",
       "      <td>2023.625956</td>\n",
       "      <td>585.002398</td>\n",
       "    </tr>\n",
       "    <tr>\n",
       "      <th>4</th>\n",
       "      <td>SGLD</td>\n",
       "      <td>run5</td>\n",
       "      <td>54</td>\n",
       "      <td>130403.771160</td>\n",
       "      <td>108052.961611</td>\n",
       "      <td>200</td>\n",
       "      <td>2000.980771</td>\n",
       "      <td>652.018856</td>\n",
       "    </tr>\n",
       "    <tr>\n",
       "      <th>5</th>\n",
       "      <td>SGLD</td>\n",
       "      <td>run12</td>\n",
       "      <td>43</td>\n",
       "      <td>105438.291573</td>\n",
       "      <td>86464.094652</td>\n",
       "      <td>200</td>\n",
       "      <td>2010.792899</td>\n",
       "      <td>527.191458</td>\n",
       "    </tr>\n",
       "    <tr>\n",
       "      <th>6</th>\n",
       "      <td>SGLD</td>\n",
       "      <td>run11</td>\n",
       "      <td>22</td>\n",
       "      <td>52402.464597</td>\n",
       "      <td>46066.119234</td>\n",
       "      <td>200</td>\n",
       "      <td>2093.914511</td>\n",
       "      <td>262.012323</td>\n",
       "    </tr>\n",
       "    <tr>\n",
       "      <th>7</th>\n",
       "      <td>SGLD</td>\n",
       "      <td>run9</td>\n",
       "      <td>13</td>\n",
       "      <td>34469.383890</td>\n",
       "      <td>27806.314762</td>\n",
       "      <td>200</td>\n",
       "      <td>2138.947289</td>\n",
       "      <td>172.346919</td>\n",
       "    </tr>\n",
       "    <tr>\n",
       "      <th>8</th>\n",
       "      <td>SGLD</td>\n",
       "      <td>run6</td>\n",
       "      <td>11</td>\n",
       "      <td>30849.977691</td>\n",
       "      <td>23799.799745</td>\n",
       "      <td>200</td>\n",
       "      <td>2163.618159</td>\n",
       "      <td>154.249888</td>\n",
       "    </tr>\n",
       "    <tr>\n",
       "      <th>9</th>\n",
       "      <td>SGLD</td>\n",
       "      <td>run8</td>\n",
       "      <td>18</td>\n",
       "      <td>45235.975777</td>\n",
       "      <td>38181.263268</td>\n",
       "      <td>200</td>\n",
       "      <td>2121.181293</td>\n",
       "      <td>226.179879</td>\n",
       "    </tr>\n",
       "    <tr>\n",
       "      <th>10</th>\n",
       "      <td>SGLD</td>\n",
       "      <td>run7</td>\n",
       "      <td>50</td>\n",
       "      <td>110725.353899</td>\n",
       "      <td>101629.337721</td>\n",
       "      <td>200</td>\n",
       "      <td>2032.586754</td>\n",
       "      <td>553.626769</td>\n",
       "    </tr>\n",
       "    <tr>\n",
       "      <th>11</th>\n",
       "      <td>SGLD</td>\n",
       "      <td>run10</td>\n",
       "      <td>50</td>\n",
       "      <td>116224.750771</td>\n",
       "      <td>103142.227534</td>\n",
       "      <td>200</td>\n",
       "      <td>2062.844551</td>\n",
       "      <td>581.123754</td>\n",
       "    </tr>\n",
       "    <tr>\n",
       "      <th>12</th>\n",
       "      <td>E. Var.</td>\n",
       "      <td>cvrlrun2</td>\n",
       "      <td>184</td>\n",
       "      <td>51892.853888</td>\n",
       "      <td>47981.105153</td>\n",
       "      <td>200</td>\n",
       "      <td>260.766876</td>\n",
       "      <td>259.464269</td>\n",
       "    </tr>\n",
       "    <tr>\n",
       "      <th>13</th>\n",
       "      <td>E. Var.</td>\n",
       "      <td>cvrlrun3</td>\n",
       "      <td>192</td>\n",
       "      <td>53400.949938</td>\n",
       "      <td>51535.468441</td>\n",
       "      <td>200</td>\n",
       "      <td>268.413898</td>\n",
       "      <td>267.004750</td>\n",
       "    </tr>\n",
       "    <tr>\n",
       "      <th>14</th>\n",
       "      <td>E. Var.</td>\n",
       "      <td>cvrlrun1</td>\n",
       "      <td>183</td>\n",
       "      <td>44701.500086</td>\n",
       "      <td>41086.539232</td>\n",
       "      <td>200</td>\n",
       "      <td>224.516608</td>\n",
       "      <td>223.507500</td>\n",
       "    </tr>\n",
       "    <tr>\n",
       "      <th>15</th>\n",
       "      <td>E. Var.</td>\n",
       "      <td>cvrlrun4</td>\n",
       "      <td>191</td>\n",
       "      <td>104770.507144</td>\n",
       "      <td>99579.953635</td>\n",
       "      <td>200</td>\n",
       "      <td>521.361014</td>\n",
       "      <td>523.852536</td>\n",
       "    </tr>\n",
       "    <tr>\n",
       "      <th>16</th>\n",
       "      <td>E. Var.</td>\n",
       "      <td>cvrlrun5</td>\n",
       "      <td>192</td>\n",
       "      <td>106045.124381</td>\n",
       "      <td>101823.918871</td>\n",
       "      <td>200</td>\n",
       "      <td>530.332911</td>\n",
       "      <td>530.225622</td>\n",
       "    </tr>\n",
       "    <tr>\n",
       "      <th>17</th>\n",
       "      <td>E. Var.</td>\n",
       "      <td>cvrlrun6</td>\n",
       "      <td>193</td>\n",
       "      <td>63022.542278</td>\n",
       "      <td>61147.075629</td>\n",
       "      <td>200</td>\n",
       "      <td>316.824226</td>\n",
       "      <td>315.112711</td>\n",
       "    </tr>\n",
       "    <tr>\n",
       "      <th>18</th>\n",
       "      <td>E. Var.</td>\n",
       "      <td>cvrlrun7</td>\n",
       "      <td>190</td>\n",
       "      <td>57569.643981</td>\n",
       "      <td>55230.440737</td>\n",
       "      <td>200</td>\n",
       "      <td>290.686530</td>\n",
       "      <td>287.848220</td>\n",
       "    </tr>\n",
       "    <tr>\n",
       "      <th>19</th>\n",
       "      <td>E. Var.</td>\n",
       "      <td>cvrlrun9</td>\n",
       "      <td>195</td>\n",
       "      <td>48606.373803</td>\n",
       "      <td>47741.780619</td>\n",
       "      <td>200</td>\n",
       "      <td>244.829644</td>\n",
       "      <td>243.031869</td>\n",
       "    </tr>\n",
       "    <tr>\n",
       "      <th>20</th>\n",
       "      <td>E. Var.</td>\n",
       "      <td>cvrlrun10</td>\n",
       "      <td>188</td>\n",
       "      <td>48837.154898</td>\n",
       "      <td>46492.845806</td>\n",
       "      <td>200</td>\n",
       "      <td>247.302371</td>\n",
       "      <td>244.185774</td>\n",
       "    </tr>\n",
       "    <tr>\n",
       "      <th>21</th>\n",
       "      <td>E. Var.</td>\n",
       "      <td>cvrlrun11</td>\n",
       "      <td>189</td>\n",
       "      <td>48510.689502</td>\n",
       "      <td>46404.392600</td>\n",
       "      <td>200</td>\n",
       "      <td>245.525887</td>\n",
       "      <td>242.553448</td>\n",
       "    </tr>\n",
       "    <tr>\n",
       "      <th>22</th>\n",
       "      <td>E. Var.</td>\n",
       "      <td>cvrlrun8</td>\n",
       "      <td>193</td>\n",
       "      <td>59109.466230</td>\n",
       "      <td>57505.942377</td>\n",
       "      <td>200</td>\n",
       "      <td>297.958251</td>\n",
       "      <td>295.547331</td>\n",
       "    </tr>\n",
       "    <tr>\n",
       "      <th>23</th>\n",
       "      <td>E. Var.</td>\n",
       "      <td>cvrlrun12</td>\n",
       "      <td>197</td>\n",
       "      <td>47851.401916</td>\n",
       "      <td>47431.407874</td>\n",
       "      <td>200</td>\n",
       "      <td>240.768568</td>\n",
       "      <td>239.257010</td>\n",
       "    </tr>\n",
       "    <tr>\n",
       "      <th>24</th>\n",
       "      <td>Baseline</td>\n",
       "      <td>run1</td>\n",
       "      <td>194</td>\n",
       "      <td>30569.447019</td>\n",
       "      <td>29825.276527</td>\n",
       "      <td>200</td>\n",
       "      <td>153.738539</td>\n",
       "      <td>152.847235</td>\n",
       "    </tr>\n",
       "    <tr>\n",
       "      <th>25</th>\n",
       "      <td>Baseline</td>\n",
       "      <td>run2</td>\n",
       "      <td>193</td>\n",
       "      <td>55100.261558</td>\n",
       "      <td>53479.341391</td>\n",
       "      <td>200</td>\n",
       "      <td>277.095033</td>\n",
       "      <td>275.501308</td>\n",
       "    </tr>\n",
       "    <tr>\n",
       "      <th>26</th>\n",
       "      <td>Baseline</td>\n",
       "      <td>run3</td>\n",
       "      <td>198</td>\n",
       "      <td>25035.414859</td>\n",
       "      <td>24915.339075</td>\n",
       "      <td>200</td>\n",
       "      <td>125.835046</td>\n",
       "      <td>125.177074</td>\n",
       "    </tr>\n",
       "    <tr>\n",
       "      <th>27</th>\n",
       "      <td>Baseline</td>\n",
       "      <td>run4</td>\n",
       "      <td>195</td>\n",
       "      <td>28810.985787</td>\n",
       "      <td>28254.219096</td>\n",
       "      <td>200</td>\n",
       "      <td>144.893431</td>\n",
       "      <td>144.054929</td>\n",
       "    </tr>\n",
       "    <tr>\n",
       "      <th>28</th>\n",
       "      <td>Baseline</td>\n",
       "      <td>run6</td>\n",
       "      <td>198</td>\n",
       "      <td>30318.617782</td>\n",
       "      <td>30172.447589</td>\n",
       "      <td>200</td>\n",
       "      <td>152.386099</td>\n",
       "      <td>151.593089</td>\n",
       "    </tr>\n",
       "    <tr>\n",
       "      <th>29</th>\n",
       "      <td>Baseline</td>\n",
       "      <td>run7</td>\n",
       "      <td>190</td>\n",
       "      <td>24124.047363</td>\n",
       "      <td>23066.709858</td>\n",
       "      <td>200</td>\n",
       "      <td>121.403736</td>\n",
       "      <td>120.620237</td>\n",
       "    </tr>\n",
       "    <tr>\n",
       "      <th>30</th>\n",
       "      <td>Baseline</td>\n",
       "      <td>run5</td>\n",
       "      <td>194</td>\n",
       "      <td>54411.542345</td>\n",
       "      <td>53112.564218</td>\n",
       "      <td>200</td>\n",
       "      <td>273.776104</td>\n",
       "      <td>272.057712</td>\n",
       "    </tr>\n",
       "    <tr>\n",
       "      <th>31</th>\n",
       "      <td>Baseline</td>\n",
       "      <td>run8</td>\n",
       "      <td>199</td>\n",
       "      <td>28919.142961</td>\n",
       "      <td>28919.142961</td>\n",
       "      <td>200</td>\n",
       "      <td>145.322326</td>\n",
       "      <td>144.595715</td>\n",
       "    </tr>\n",
       "    <tr>\n",
       "      <th>32</th>\n",
       "      <td>Baseline</td>\n",
       "      <td>run9</td>\n",
       "      <td>197</td>\n",
       "      <td>28735.553266</td>\n",
       "      <td>28456.859307</td>\n",
       "      <td>200</td>\n",
       "      <td>144.451062</td>\n",
       "      <td>143.677766</td>\n",
       "    </tr>\n",
       "    <tr>\n",
       "      <th>33</th>\n",
       "      <td>Baseline</td>\n",
       "      <td>run10</td>\n",
       "      <td>186</td>\n",
       "      <td>54255.727014</td>\n",
       "      <td>50752.025578</td>\n",
       "      <td>200</td>\n",
       "      <td>272.860353</td>\n",
       "      <td>271.278635</td>\n",
       "    </tr>\n",
       "    <tr>\n",
       "      <th>34</th>\n",
       "      <td>Baseline</td>\n",
       "      <td>run11</td>\n",
       "      <td>186</td>\n",
       "      <td>24311.314977</td>\n",
       "      <td>22779.520853</td>\n",
       "      <td>200</td>\n",
       "      <td>122.470542</td>\n",
       "      <td>121.556575</td>\n",
       "    </tr>\n",
       "    <tr>\n",
       "      <th>35</th>\n",
       "      <td>Baseline</td>\n",
       "      <td>run12</td>\n",
       "      <td>185</td>\n",
       "      <td>23614.396359</td>\n",
       "      <td>21970.461375</td>\n",
       "      <td>200</td>\n",
       "      <td>118.759251</td>\n",
       "      <td>118.071982</td>\n",
       "    </tr>\n",
       "  </tbody>\n",
       "</table>\n",
       "</div>"
      ],
      "text/plain": [
       "         exp        run best_epoch     total_time  time_til_best epochs  \\\n",
       "0       SGLD       run1         54  123449.680339  109202.645804    200   \n",
       "1       SGLD       run4         35   77983.924389   72062.188021    200   \n",
       "2       SGLD       run3         15   39495.340837   32140.937530    200   \n",
       "3       SGLD       run2         51  117000.479673  103204.923739    200   \n",
       "4       SGLD       run5         54  130403.771160  108052.961611    200   \n",
       "5       SGLD      run12         43  105438.291573   86464.094652    200   \n",
       "6       SGLD      run11         22   52402.464597   46066.119234    200   \n",
       "7       SGLD       run9         13   34469.383890   27806.314762    200   \n",
       "8       SGLD       run6         11   30849.977691   23799.799745    200   \n",
       "9       SGLD       run8         18   45235.975777   38181.263268    200   \n",
       "10      SGLD       run7         50  110725.353899  101629.337721    200   \n",
       "11      SGLD      run10         50  116224.750771  103142.227534    200   \n",
       "12   E. Var.   cvrlrun2        184   51892.853888   47981.105153    200   \n",
       "13   E. Var.   cvrlrun3        192   53400.949938   51535.468441    200   \n",
       "14   E. Var.   cvrlrun1        183   44701.500086   41086.539232    200   \n",
       "15   E. Var.   cvrlrun4        191  104770.507144   99579.953635    200   \n",
       "16   E. Var.   cvrlrun5        192  106045.124381  101823.918871    200   \n",
       "17   E. Var.   cvrlrun6        193   63022.542278   61147.075629    200   \n",
       "18   E. Var.   cvrlrun7        190   57569.643981   55230.440737    200   \n",
       "19   E. Var.   cvrlrun9        195   48606.373803   47741.780619    200   \n",
       "20   E. Var.  cvrlrun10        188   48837.154898   46492.845806    200   \n",
       "21   E. Var.  cvrlrun11        189   48510.689502   46404.392600    200   \n",
       "22   E. Var.   cvrlrun8        193   59109.466230   57505.942377    200   \n",
       "23   E. Var.  cvrlrun12        197   47851.401916   47431.407874    200   \n",
       "24  Baseline       run1        194   30569.447019   29825.276527    200   \n",
       "25  Baseline       run2        193   55100.261558   53479.341391    200   \n",
       "26  Baseline       run3        198   25035.414859   24915.339075    200   \n",
       "27  Baseline       run4        195   28810.985787   28254.219096    200   \n",
       "28  Baseline       run6        198   30318.617782   30172.447589    200   \n",
       "29  Baseline       run7        190   24124.047363   23066.709858    200   \n",
       "30  Baseline       run5        194   54411.542345   53112.564218    200   \n",
       "31  Baseline       run8        199   28919.142961   28919.142961    200   \n",
       "32  Baseline       run9        197   28735.553266   28456.859307    200   \n",
       "33  Baseline      run10        186   54255.727014   50752.025578    200   \n",
       "34  Baseline      run11        186   24311.314977   22779.520853    200   \n",
       "35  Baseline      run12        185   23614.396359   21970.461375    200   \n",
       "\n",
       "       ave_best     ave_all  \n",
       "0   2022.271219  617.248402  \n",
       "1   2058.919658  389.919622  \n",
       "2   2142.729169  197.476704  \n",
       "3   2023.625956  585.002398  \n",
       "4   2000.980771  652.018856  \n",
       "5   2010.792899  527.191458  \n",
       "6   2093.914511  262.012323  \n",
       "7   2138.947289  172.346919  \n",
       "8   2163.618159  154.249888  \n",
       "9   2121.181293  226.179879  \n",
       "10  2032.586754  553.626769  \n",
       "11  2062.844551  581.123754  \n",
       "12   260.766876  259.464269  \n",
       "13   268.413898  267.004750  \n",
       "14   224.516608  223.507500  \n",
       "15   521.361014  523.852536  \n",
       "16   530.332911  530.225622  \n",
       "17   316.824226  315.112711  \n",
       "18   290.686530  287.848220  \n",
       "19   244.829644  243.031869  \n",
       "20   247.302371  244.185774  \n",
       "21   245.525887  242.553448  \n",
       "22   297.958251  295.547331  \n",
       "23   240.768568  239.257010  \n",
       "24   153.738539  152.847235  \n",
       "25   277.095033  275.501308  \n",
       "26   125.835046  125.177074  \n",
       "27   144.893431  144.054929  \n",
       "28   152.386099  151.593089  \n",
       "29   121.403736  120.620237  \n",
       "30   273.776104  272.057712  \n",
       "31   145.322326  144.595715  \n",
       "32   144.451062  143.677766  \n",
       "33   272.860353  271.278635  \n",
       "34   122.470542  121.556575  \n",
       "35   118.759251  118.071982  "
      ]
     },
     "execution_count": 49,
     "metadata": {},
     "output_type": "execute_result"
    }
   ],
   "source": [
    "timedf\n"
   ]
  },
  {
   "cell_type": "code",
   "execution_count": 50,
   "id": "8cfef03a",
   "metadata": {},
   "outputs": [],
   "source": [
    "timedf['best_min']=timedf['ave_best']/60\n",
    "timedf['all_min']=timedf['ave_all']/60"
   ]
  },
  {
   "cell_type": "code",
   "execution_count": 51,
   "id": "706f4bcf",
   "metadata": {},
   "outputs": [
    {
     "data": {
      "text/html": [
       "<div>\n",
       "<style scoped>\n",
       "    .dataframe tbody tr th:only-of-type {\n",
       "        vertical-align: middle;\n",
       "    }\n",
       "\n",
       "    .dataframe tbody tr th {\n",
       "        vertical-align: top;\n",
       "    }\n",
       "\n",
       "    .dataframe thead th {\n",
       "        text-align: right;\n",
       "    }\n",
       "</style>\n",
       "<table border=\"1\" class=\"dataframe\">\n",
       "  <thead>\n",
       "    <tr style=\"text-align: right;\">\n",
       "      <th></th>\n",
       "      <th>exp</th>\n",
       "      <th>run</th>\n",
       "      <th>best_epoch</th>\n",
       "      <th>total_time</th>\n",
       "      <th>time_til_best</th>\n",
       "      <th>epochs</th>\n",
       "      <th>ave_best</th>\n",
       "      <th>ave_all</th>\n",
       "      <th>best_min</th>\n",
       "      <th>all_min</th>\n",
       "    </tr>\n",
       "  </thead>\n",
       "  <tbody>\n",
       "    <tr>\n",
       "      <th>0</th>\n",
       "      <td>SGLD</td>\n",
       "      <td>run1</td>\n",
       "      <td>54</td>\n",
       "      <td>123449.680339</td>\n",
       "      <td>109202.645804</td>\n",
       "      <td>200</td>\n",
       "      <td>2022.271219</td>\n",
       "      <td>617.248402</td>\n",
       "      <td>33.704520</td>\n",
       "      <td>10.287473</td>\n",
       "    </tr>\n",
       "    <tr>\n",
       "      <th>1</th>\n",
       "      <td>SGLD</td>\n",
       "      <td>run4</td>\n",
       "      <td>35</td>\n",
       "      <td>77983.924389</td>\n",
       "      <td>72062.188021</td>\n",
       "      <td>200</td>\n",
       "      <td>2058.919658</td>\n",
       "      <td>389.919622</td>\n",
       "      <td>34.315328</td>\n",
       "      <td>6.498660</td>\n",
       "    </tr>\n",
       "    <tr>\n",
       "      <th>2</th>\n",
       "      <td>SGLD</td>\n",
       "      <td>run3</td>\n",
       "      <td>15</td>\n",
       "      <td>39495.340837</td>\n",
       "      <td>32140.937530</td>\n",
       "      <td>200</td>\n",
       "      <td>2142.729169</td>\n",
       "      <td>197.476704</td>\n",
       "      <td>35.712153</td>\n",
       "      <td>3.291278</td>\n",
       "    </tr>\n",
       "    <tr>\n",
       "      <th>3</th>\n",
       "      <td>SGLD</td>\n",
       "      <td>run2</td>\n",
       "      <td>51</td>\n",
       "      <td>117000.479673</td>\n",
       "      <td>103204.923739</td>\n",
       "      <td>200</td>\n",
       "      <td>2023.625956</td>\n",
       "      <td>585.002398</td>\n",
       "      <td>33.727099</td>\n",
       "      <td>9.750040</td>\n",
       "    </tr>\n",
       "    <tr>\n",
       "      <th>4</th>\n",
       "      <td>SGLD</td>\n",
       "      <td>run5</td>\n",
       "      <td>54</td>\n",
       "      <td>130403.771160</td>\n",
       "      <td>108052.961611</td>\n",
       "      <td>200</td>\n",
       "      <td>2000.980771</td>\n",
       "      <td>652.018856</td>\n",
       "      <td>33.349680</td>\n",
       "      <td>10.866981</td>\n",
       "    </tr>\n",
       "    <tr>\n",
       "      <th>5</th>\n",
       "      <td>SGLD</td>\n",
       "      <td>run12</td>\n",
       "      <td>43</td>\n",
       "      <td>105438.291573</td>\n",
       "      <td>86464.094652</td>\n",
       "      <td>200</td>\n",
       "      <td>2010.792899</td>\n",
       "      <td>527.191458</td>\n",
       "      <td>33.513215</td>\n",
       "      <td>8.786524</td>\n",
       "    </tr>\n",
       "    <tr>\n",
       "      <th>6</th>\n",
       "      <td>SGLD</td>\n",
       "      <td>run11</td>\n",
       "      <td>22</td>\n",
       "      <td>52402.464597</td>\n",
       "      <td>46066.119234</td>\n",
       "      <td>200</td>\n",
       "      <td>2093.914511</td>\n",
       "      <td>262.012323</td>\n",
       "      <td>34.898575</td>\n",
       "      <td>4.366872</td>\n",
       "    </tr>\n",
       "    <tr>\n",
       "      <th>7</th>\n",
       "      <td>SGLD</td>\n",
       "      <td>run9</td>\n",
       "      <td>13</td>\n",
       "      <td>34469.383890</td>\n",
       "      <td>27806.314762</td>\n",
       "      <td>200</td>\n",
       "      <td>2138.947289</td>\n",
       "      <td>172.346919</td>\n",
       "      <td>35.649121</td>\n",
       "      <td>2.872449</td>\n",
       "    </tr>\n",
       "    <tr>\n",
       "      <th>8</th>\n",
       "      <td>SGLD</td>\n",
       "      <td>run6</td>\n",
       "      <td>11</td>\n",
       "      <td>30849.977691</td>\n",
       "      <td>23799.799745</td>\n",
       "      <td>200</td>\n",
       "      <td>2163.618159</td>\n",
       "      <td>154.249888</td>\n",
       "      <td>36.060303</td>\n",
       "      <td>2.570831</td>\n",
       "    </tr>\n",
       "    <tr>\n",
       "      <th>9</th>\n",
       "      <td>SGLD</td>\n",
       "      <td>run8</td>\n",
       "      <td>18</td>\n",
       "      <td>45235.975777</td>\n",
       "      <td>38181.263268</td>\n",
       "      <td>200</td>\n",
       "      <td>2121.181293</td>\n",
       "      <td>226.179879</td>\n",
       "      <td>35.353022</td>\n",
       "      <td>3.769665</td>\n",
       "    </tr>\n",
       "    <tr>\n",
       "      <th>10</th>\n",
       "      <td>SGLD</td>\n",
       "      <td>run7</td>\n",
       "      <td>50</td>\n",
       "      <td>110725.353899</td>\n",
       "      <td>101629.337721</td>\n",
       "      <td>200</td>\n",
       "      <td>2032.586754</td>\n",
       "      <td>553.626769</td>\n",
       "      <td>33.876446</td>\n",
       "      <td>9.227113</td>\n",
       "    </tr>\n",
       "    <tr>\n",
       "      <th>11</th>\n",
       "      <td>SGLD</td>\n",
       "      <td>run10</td>\n",
       "      <td>50</td>\n",
       "      <td>116224.750771</td>\n",
       "      <td>103142.227534</td>\n",
       "      <td>200</td>\n",
       "      <td>2062.844551</td>\n",
       "      <td>581.123754</td>\n",
       "      <td>34.380743</td>\n",
       "      <td>9.685396</td>\n",
       "    </tr>\n",
       "    <tr>\n",
       "      <th>12</th>\n",
       "      <td>E. Var.</td>\n",
       "      <td>cvrlrun2</td>\n",
       "      <td>184</td>\n",
       "      <td>51892.853888</td>\n",
       "      <td>47981.105153</td>\n",
       "      <td>200</td>\n",
       "      <td>260.766876</td>\n",
       "      <td>259.464269</td>\n",
       "      <td>4.346115</td>\n",
       "      <td>4.324404</td>\n",
       "    </tr>\n",
       "    <tr>\n",
       "      <th>13</th>\n",
       "      <td>E. Var.</td>\n",
       "      <td>cvrlrun3</td>\n",
       "      <td>192</td>\n",
       "      <td>53400.949938</td>\n",
       "      <td>51535.468441</td>\n",
       "      <td>200</td>\n",
       "      <td>268.413898</td>\n",
       "      <td>267.004750</td>\n",
       "      <td>4.473565</td>\n",
       "      <td>4.450079</td>\n",
       "    </tr>\n",
       "    <tr>\n",
       "      <th>14</th>\n",
       "      <td>E. Var.</td>\n",
       "      <td>cvrlrun1</td>\n",
       "      <td>183</td>\n",
       "      <td>44701.500086</td>\n",
       "      <td>41086.539232</td>\n",
       "      <td>200</td>\n",
       "      <td>224.516608</td>\n",
       "      <td>223.507500</td>\n",
       "      <td>3.741943</td>\n",
       "      <td>3.725125</td>\n",
       "    </tr>\n",
       "    <tr>\n",
       "      <th>15</th>\n",
       "      <td>E. Var.</td>\n",
       "      <td>cvrlrun4</td>\n",
       "      <td>191</td>\n",
       "      <td>104770.507144</td>\n",
       "      <td>99579.953635</td>\n",
       "      <td>200</td>\n",
       "      <td>521.361014</td>\n",
       "      <td>523.852536</td>\n",
       "      <td>8.689350</td>\n",
       "      <td>8.730876</td>\n",
       "    </tr>\n",
       "    <tr>\n",
       "      <th>16</th>\n",
       "      <td>E. Var.</td>\n",
       "      <td>cvrlrun5</td>\n",
       "      <td>192</td>\n",
       "      <td>106045.124381</td>\n",
       "      <td>101823.918871</td>\n",
       "      <td>200</td>\n",
       "      <td>530.332911</td>\n",
       "      <td>530.225622</td>\n",
       "      <td>8.838882</td>\n",
       "      <td>8.837094</td>\n",
       "    </tr>\n",
       "    <tr>\n",
       "      <th>17</th>\n",
       "      <td>E. Var.</td>\n",
       "      <td>cvrlrun6</td>\n",
       "      <td>193</td>\n",
       "      <td>63022.542278</td>\n",
       "      <td>61147.075629</td>\n",
       "      <td>200</td>\n",
       "      <td>316.824226</td>\n",
       "      <td>315.112711</td>\n",
       "      <td>5.280404</td>\n",
       "      <td>5.251879</td>\n",
       "    </tr>\n",
       "    <tr>\n",
       "      <th>18</th>\n",
       "      <td>E. Var.</td>\n",
       "      <td>cvrlrun7</td>\n",
       "      <td>190</td>\n",
       "      <td>57569.643981</td>\n",
       "      <td>55230.440737</td>\n",
       "      <td>200</td>\n",
       "      <td>290.686530</td>\n",
       "      <td>287.848220</td>\n",
       "      <td>4.844776</td>\n",
       "      <td>4.797470</td>\n",
       "    </tr>\n",
       "    <tr>\n",
       "      <th>19</th>\n",
       "      <td>E. Var.</td>\n",
       "      <td>cvrlrun9</td>\n",
       "      <td>195</td>\n",
       "      <td>48606.373803</td>\n",
       "      <td>47741.780619</td>\n",
       "      <td>200</td>\n",
       "      <td>244.829644</td>\n",
       "      <td>243.031869</td>\n",
       "      <td>4.080494</td>\n",
       "      <td>4.050531</td>\n",
       "    </tr>\n",
       "    <tr>\n",
       "      <th>20</th>\n",
       "      <td>E. Var.</td>\n",
       "      <td>cvrlrun10</td>\n",
       "      <td>188</td>\n",
       "      <td>48837.154898</td>\n",
       "      <td>46492.845806</td>\n",
       "      <td>200</td>\n",
       "      <td>247.302371</td>\n",
       "      <td>244.185774</td>\n",
       "      <td>4.121706</td>\n",
       "      <td>4.069763</td>\n",
       "    </tr>\n",
       "    <tr>\n",
       "      <th>21</th>\n",
       "      <td>E. Var.</td>\n",
       "      <td>cvrlrun11</td>\n",
       "      <td>189</td>\n",
       "      <td>48510.689502</td>\n",
       "      <td>46404.392600</td>\n",
       "      <td>200</td>\n",
       "      <td>245.525887</td>\n",
       "      <td>242.553448</td>\n",
       "      <td>4.092098</td>\n",
       "      <td>4.042557</td>\n",
       "    </tr>\n",
       "    <tr>\n",
       "      <th>22</th>\n",
       "      <td>E. Var.</td>\n",
       "      <td>cvrlrun8</td>\n",
       "      <td>193</td>\n",
       "      <td>59109.466230</td>\n",
       "      <td>57505.942377</td>\n",
       "      <td>200</td>\n",
       "      <td>297.958251</td>\n",
       "      <td>295.547331</td>\n",
       "      <td>4.965971</td>\n",
       "      <td>4.925789</td>\n",
       "    </tr>\n",
       "    <tr>\n",
       "      <th>23</th>\n",
       "      <td>E. Var.</td>\n",
       "      <td>cvrlrun12</td>\n",
       "      <td>197</td>\n",
       "      <td>47851.401916</td>\n",
       "      <td>47431.407874</td>\n",
       "      <td>200</td>\n",
       "      <td>240.768568</td>\n",
       "      <td>239.257010</td>\n",
       "      <td>4.012809</td>\n",
       "      <td>3.987617</td>\n",
       "    </tr>\n",
       "    <tr>\n",
       "      <th>24</th>\n",
       "      <td>Baseline</td>\n",
       "      <td>run1</td>\n",
       "      <td>194</td>\n",
       "      <td>30569.447019</td>\n",
       "      <td>29825.276527</td>\n",
       "      <td>200</td>\n",
       "      <td>153.738539</td>\n",
       "      <td>152.847235</td>\n",
       "      <td>2.562309</td>\n",
       "      <td>2.547454</td>\n",
       "    </tr>\n",
       "    <tr>\n",
       "      <th>25</th>\n",
       "      <td>Baseline</td>\n",
       "      <td>run2</td>\n",
       "      <td>193</td>\n",
       "      <td>55100.261558</td>\n",
       "      <td>53479.341391</td>\n",
       "      <td>200</td>\n",
       "      <td>277.095033</td>\n",
       "      <td>275.501308</td>\n",
       "      <td>4.618251</td>\n",
       "      <td>4.591688</td>\n",
       "    </tr>\n",
       "    <tr>\n",
       "      <th>26</th>\n",
       "      <td>Baseline</td>\n",
       "      <td>run3</td>\n",
       "      <td>198</td>\n",
       "      <td>25035.414859</td>\n",
       "      <td>24915.339075</td>\n",
       "      <td>200</td>\n",
       "      <td>125.835046</td>\n",
       "      <td>125.177074</td>\n",
       "      <td>2.097251</td>\n",
       "      <td>2.086285</td>\n",
       "    </tr>\n",
       "    <tr>\n",
       "      <th>27</th>\n",
       "      <td>Baseline</td>\n",
       "      <td>run4</td>\n",
       "      <td>195</td>\n",
       "      <td>28810.985787</td>\n",
       "      <td>28254.219096</td>\n",
       "      <td>200</td>\n",
       "      <td>144.893431</td>\n",
       "      <td>144.054929</td>\n",
       "      <td>2.414891</td>\n",
       "      <td>2.400915</td>\n",
       "    </tr>\n",
       "    <tr>\n",
       "      <th>28</th>\n",
       "      <td>Baseline</td>\n",
       "      <td>run6</td>\n",
       "      <td>198</td>\n",
       "      <td>30318.617782</td>\n",
       "      <td>30172.447589</td>\n",
       "      <td>200</td>\n",
       "      <td>152.386099</td>\n",
       "      <td>151.593089</td>\n",
       "      <td>2.539768</td>\n",
       "      <td>2.526551</td>\n",
       "    </tr>\n",
       "    <tr>\n",
       "      <th>29</th>\n",
       "      <td>Baseline</td>\n",
       "      <td>run7</td>\n",
       "      <td>190</td>\n",
       "      <td>24124.047363</td>\n",
       "      <td>23066.709858</td>\n",
       "      <td>200</td>\n",
       "      <td>121.403736</td>\n",
       "      <td>120.620237</td>\n",
       "      <td>2.023396</td>\n",
       "      <td>2.010337</td>\n",
       "    </tr>\n",
       "    <tr>\n",
       "      <th>30</th>\n",
       "      <td>Baseline</td>\n",
       "      <td>run5</td>\n",
       "      <td>194</td>\n",
       "      <td>54411.542345</td>\n",
       "      <td>53112.564218</td>\n",
       "      <td>200</td>\n",
       "      <td>273.776104</td>\n",
       "      <td>272.057712</td>\n",
       "      <td>4.562935</td>\n",
       "      <td>4.534295</td>\n",
       "    </tr>\n",
       "    <tr>\n",
       "      <th>31</th>\n",
       "      <td>Baseline</td>\n",
       "      <td>run8</td>\n",
       "      <td>199</td>\n",
       "      <td>28919.142961</td>\n",
       "      <td>28919.142961</td>\n",
       "      <td>200</td>\n",
       "      <td>145.322326</td>\n",
       "      <td>144.595715</td>\n",
       "      <td>2.422039</td>\n",
       "      <td>2.409929</td>\n",
       "    </tr>\n",
       "    <tr>\n",
       "      <th>32</th>\n",
       "      <td>Baseline</td>\n",
       "      <td>run9</td>\n",
       "      <td>197</td>\n",
       "      <td>28735.553266</td>\n",
       "      <td>28456.859307</td>\n",
       "      <td>200</td>\n",
       "      <td>144.451062</td>\n",
       "      <td>143.677766</td>\n",
       "      <td>2.407518</td>\n",
       "      <td>2.394629</td>\n",
       "    </tr>\n",
       "    <tr>\n",
       "      <th>33</th>\n",
       "      <td>Baseline</td>\n",
       "      <td>run10</td>\n",
       "      <td>186</td>\n",
       "      <td>54255.727014</td>\n",
       "      <td>50752.025578</td>\n",
       "      <td>200</td>\n",
       "      <td>272.860353</td>\n",
       "      <td>271.278635</td>\n",
       "      <td>4.547673</td>\n",
       "      <td>4.521311</td>\n",
       "    </tr>\n",
       "    <tr>\n",
       "      <th>34</th>\n",
       "      <td>Baseline</td>\n",
       "      <td>run11</td>\n",
       "      <td>186</td>\n",
       "      <td>24311.314977</td>\n",
       "      <td>22779.520853</td>\n",
       "      <td>200</td>\n",
       "      <td>122.470542</td>\n",
       "      <td>121.556575</td>\n",
       "      <td>2.041176</td>\n",
       "      <td>2.025943</td>\n",
       "    </tr>\n",
       "    <tr>\n",
       "      <th>35</th>\n",
       "      <td>Baseline</td>\n",
       "      <td>run12</td>\n",
       "      <td>185</td>\n",
       "      <td>23614.396359</td>\n",
       "      <td>21970.461375</td>\n",
       "      <td>200</td>\n",
       "      <td>118.759251</td>\n",
       "      <td>118.071982</td>\n",
       "      <td>1.979321</td>\n",
       "      <td>1.967866</td>\n",
       "    </tr>\n",
       "  </tbody>\n",
       "</table>\n",
       "</div>"
      ],
      "text/plain": [
       "         exp        run best_epoch     total_time  time_til_best epochs  \\\n",
       "0       SGLD       run1         54  123449.680339  109202.645804    200   \n",
       "1       SGLD       run4         35   77983.924389   72062.188021    200   \n",
       "2       SGLD       run3         15   39495.340837   32140.937530    200   \n",
       "3       SGLD       run2         51  117000.479673  103204.923739    200   \n",
       "4       SGLD       run5         54  130403.771160  108052.961611    200   \n",
       "5       SGLD      run12         43  105438.291573   86464.094652    200   \n",
       "6       SGLD      run11         22   52402.464597   46066.119234    200   \n",
       "7       SGLD       run9         13   34469.383890   27806.314762    200   \n",
       "8       SGLD       run6         11   30849.977691   23799.799745    200   \n",
       "9       SGLD       run8         18   45235.975777   38181.263268    200   \n",
       "10      SGLD       run7         50  110725.353899  101629.337721    200   \n",
       "11      SGLD      run10         50  116224.750771  103142.227534    200   \n",
       "12   E. Var.   cvrlrun2        184   51892.853888   47981.105153    200   \n",
       "13   E. Var.   cvrlrun3        192   53400.949938   51535.468441    200   \n",
       "14   E. Var.   cvrlrun1        183   44701.500086   41086.539232    200   \n",
       "15   E. Var.   cvrlrun4        191  104770.507144   99579.953635    200   \n",
       "16   E. Var.   cvrlrun5        192  106045.124381  101823.918871    200   \n",
       "17   E. Var.   cvrlrun6        193   63022.542278   61147.075629    200   \n",
       "18   E. Var.   cvrlrun7        190   57569.643981   55230.440737    200   \n",
       "19   E. Var.   cvrlrun9        195   48606.373803   47741.780619    200   \n",
       "20   E. Var.  cvrlrun10        188   48837.154898   46492.845806    200   \n",
       "21   E. Var.  cvrlrun11        189   48510.689502   46404.392600    200   \n",
       "22   E. Var.   cvrlrun8        193   59109.466230   57505.942377    200   \n",
       "23   E. Var.  cvrlrun12        197   47851.401916   47431.407874    200   \n",
       "24  Baseline       run1        194   30569.447019   29825.276527    200   \n",
       "25  Baseline       run2        193   55100.261558   53479.341391    200   \n",
       "26  Baseline       run3        198   25035.414859   24915.339075    200   \n",
       "27  Baseline       run4        195   28810.985787   28254.219096    200   \n",
       "28  Baseline       run6        198   30318.617782   30172.447589    200   \n",
       "29  Baseline       run7        190   24124.047363   23066.709858    200   \n",
       "30  Baseline       run5        194   54411.542345   53112.564218    200   \n",
       "31  Baseline       run8        199   28919.142961   28919.142961    200   \n",
       "32  Baseline       run9        197   28735.553266   28456.859307    200   \n",
       "33  Baseline      run10        186   54255.727014   50752.025578    200   \n",
       "34  Baseline      run11        186   24311.314977   22779.520853    200   \n",
       "35  Baseline      run12        185   23614.396359   21970.461375    200   \n",
       "\n",
       "       ave_best     ave_all   best_min    all_min  \n",
       "0   2022.271219  617.248402  33.704520  10.287473  \n",
       "1   2058.919658  389.919622  34.315328   6.498660  \n",
       "2   2142.729169  197.476704  35.712153   3.291278  \n",
       "3   2023.625956  585.002398  33.727099   9.750040  \n",
       "4   2000.980771  652.018856  33.349680  10.866981  \n",
       "5   2010.792899  527.191458  33.513215   8.786524  \n",
       "6   2093.914511  262.012323  34.898575   4.366872  \n",
       "7   2138.947289  172.346919  35.649121   2.872449  \n",
       "8   2163.618159  154.249888  36.060303   2.570831  \n",
       "9   2121.181293  226.179879  35.353022   3.769665  \n",
       "10  2032.586754  553.626769  33.876446   9.227113  \n",
       "11  2062.844551  581.123754  34.380743   9.685396  \n",
       "12   260.766876  259.464269   4.346115   4.324404  \n",
       "13   268.413898  267.004750   4.473565   4.450079  \n",
       "14   224.516608  223.507500   3.741943   3.725125  \n",
       "15   521.361014  523.852536   8.689350   8.730876  \n",
       "16   530.332911  530.225622   8.838882   8.837094  \n",
       "17   316.824226  315.112711   5.280404   5.251879  \n",
       "18   290.686530  287.848220   4.844776   4.797470  \n",
       "19   244.829644  243.031869   4.080494   4.050531  \n",
       "20   247.302371  244.185774   4.121706   4.069763  \n",
       "21   245.525887  242.553448   4.092098   4.042557  \n",
       "22   297.958251  295.547331   4.965971   4.925789  \n",
       "23   240.768568  239.257010   4.012809   3.987617  \n",
       "24   153.738539  152.847235   2.562309   2.547454  \n",
       "25   277.095033  275.501308   4.618251   4.591688  \n",
       "26   125.835046  125.177074   2.097251   2.086285  \n",
       "27   144.893431  144.054929   2.414891   2.400915  \n",
       "28   152.386099  151.593089   2.539768   2.526551  \n",
       "29   121.403736  120.620237   2.023396   2.010337  \n",
       "30   273.776104  272.057712   4.562935   4.534295  \n",
       "31   145.322326  144.595715   2.422039   2.409929  \n",
       "32   144.451062  143.677766   2.407518   2.394629  \n",
       "33   272.860353  271.278635   4.547673   4.521311  \n",
       "34   122.470542  121.556575   2.041176   2.025943  \n",
       "35   118.759251  118.071982   1.979321   1.967866  "
      ]
     },
     "execution_count": 51,
     "metadata": {},
     "output_type": "execute_result"
    }
   ],
   "source": [
    "timedf"
   ]
  },
  {
   "cell_type": "code",
   "execution_count": 52,
   "id": "3e8aab9d",
   "metadata": {},
   "outputs": [
    {
     "name": "stderr",
     "output_type": "stream",
     "text": [
      "/srv/ipykernel_22/1477346745.py:1: FutureWarning: Indexing with multiple keys (implicitly converted to a tuple of keys) will be deprecated, use a list instead.\n",
      "  timedf.groupby('exp')['best_epoch','best_min','all_min'].agg(['mean','std'])\n"
     ]
    },
    {
     "data": {
      "text/html": [
       "<div>\n",
       "<style scoped>\n",
       "    .dataframe tbody tr th:only-of-type {\n",
       "        vertical-align: middle;\n",
       "    }\n",
       "\n",
       "    .dataframe tbody tr th {\n",
       "        vertical-align: top;\n",
       "    }\n",
       "\n",
       "    .dataframe thead tr th {\n",
       "        text-align: left;\n",
       "    }\n",
       "\n",
       "    .dataframe thead tr:last-of-type th {\n",
       "        text-align: right;\n",
       "    }\n",
       "</style>\n",
       "<table border=\"1\" class=\"dataframe\">\n",
       "  <thead>\n",
       "    <tr>\n",
       "      <th></th>\n",
       "      <th colspan=\"2\" halign=\"left\">best_epoch</th>\n",
       "      <th colspan=\"2\" halign=\"left\">best_min</th>\n",
       "      <th colspan=\"2\" halign=\"left\">all_min</th>\n",
       "    </tr>\n",
       "    <tr>\n",
       "      <th></th>\n",
       "      <th>mean</th>\n",
       "      <th>std</th>\n",
       "      <th>mean</th>\n",
       "      <th>std</th>\n",
       "      <th>mean</th>\n",
       "      <th>std</th>\n",
       "    </tr>\n",
       "    <tr>\n",
       "      <th>exp</th>\n",
       "      <th></th>\n",
       "      <th></th>\n",
       "      <th></th>\n",
       "      <th></th>\n",
       "      <th></th>\n",
       "      <th></th>\n",
       "    </tr>\n",
       "  </thead>\n",
       "  <tbody>\n",
       "    <tr>\n",
       "      <th>Baseline</th>\n",
       "      <td>192.916667</td>\n",
       "      <td>5.035480</td>\n",
       "      <td>2.851377</td>\n",
       "      <td>1.059690</td>\n",
       "      <td>2.834767</td>\n",
       "      <td>1.053358</td>\n",
       "    </tr>\n",
       "    <tr>\n",
       "      <th>E. Var.</th>\n",
       "      <td>190.583333</td>\n",
       "      <td>4.122187</td>\n",
       "      <td>5.124009</td>\n",
       "      <td>1.757343</td>\n",
       "      <td>5.099432</td>\n",
       "      <td>1.776786</td>\n",
       "    </tr>\n",
       "    <tr>\n",
       "      <th>SGLD</th>\n",
       "      <td>34.666667</td>\n",
       "      <td>17.603374</td>\n",
       "      <td>34.545017</td>\n",
       "      <td>0.955882</td>\n",
       "      <td>6.831107</td>\n",
       "      <td>3.252595</td>\n",
       "    </tr>\n",
       "  </tbody>\n",
       "</table>\n",
       "</div>"
      ],
      "text/plain": [
       "          best_epoch              best_min             all_min          \n",
       "                mean        std       mean       std      mean       std\n",
       "exp                                                                     \n",
       "Baseline  192.916667   5.035480   2.851377  1.059690  2.834767  1.053358\n",
       "E. Var.   190.583333   4.122187   5.124009  1.757343  5.099432  1.776786\n",
       "SGLD       34.666667  17.603374  34.545017  0.955882  6.831107  3.252595"
      ]
     },
     "execution_count": 52,
     "metadata": {},
     "output_type": "execute_result"
    }
   ],
   "source": [
    "timedf.groupby('exp')['best_epoch','best_min','all_min'].agg(['mean','std'])"
   ]
  },
  {
   "cell_type": "code",
   "execution_count": null,
   "id": "97330a4f",
   "metadata": {},
   "outputs": [],
   "source": []
  },
  {
   "cell_type": "code",
   "execution_count": null,
   "id": "34f6b446",
   "metadata": {},
   "outputs": [],
   "source": []
  },
  {
   "cell_type": "code",
   "execution_count": null,
   "id": "bf21aed9",
   "metadata": {},
   "outputs": [],
   "source": []
  },
  {
   "cell_type": "code",
   "execution_count": null,
   "id": "f3ae060a",
   "metadata": {},
   "outputs": [],
   "source": []
  },
  {
   "cell_type": "code",
   "execution_count": 7,
   "id": "6be0edb7",
   "metadata": {},
   "outputs": [],
   "source": [
    "from tqdm import tqdm\n",
    "# Sampling\n",
    "from tqdm import tqdm\n",
    "t.backends.cudnn.benchmark = True\n",
    "t.backends.cudnn.enabled = True\n",
    "seed = 1\n",
    "im_sz = 32\n",
    "n_ch = 3\n",
    "n_classes = 100"
   ]
  },
  {
   "cell_type": "code",
   "execution_count": 8,
   "id": "160efe34",
   "metadata": {},
   "outputs": [],
   "source": [
    "class DataSubset(Dataset):\n",
    "    def __init__(self, base_dataset, inds=None, size=-1):\n",
    "        self.base_dataset = base_dataset\n",
    "        if inds is None:\n",
    "            inds = np.random.choice(list(range(len(base_dataset))), size, replace=False)\n",
    "        self.inds = inds\n",
    "\n",
    "    def __getitem__(self, index):\n",
    "        base_ind = self.inds[index]\n",
    "        return self.base_dataset[base_ind]\n",
    "\n",
    "    def __len__(self):\n",
    "        return len(self.inds)"
   ]
  },
  {
   "cell_type": "code",
   "execution_count": 9,
   "id": "7fab1960",
   "metadata": {},
   "outputs": [],
   "source": [
    "class F(nn.Module):\n",
    "    def __init__(self, depth=28, width=2, norm=None):\n",
    "        super(F, self).__init__()\n",
    "        self.f = wideresnet.Wide_ResNet(depth, width, norm=norm)\n",
    "        self.energy_output = nn.Linear(self.f.last_dim, 1)\n",
    "        self.class_output = nn.Linear(self.f.last_dim, 100)\n",
    "\n",
    "    def forward(self, x, y=None):\n",
    "        penult_z = self.f(x)\n",
    "        return self.energy_output(penult_z).squeeze()\n",
    "\n",
    "    def classify(self, x):\n",
    "        penult_z = self.f(x)\n",
    "        return self.class_output(penult_z)"
   ]
  },
  {
   "cell_type": "code",
   "execution_count": 10,
   "id": "93782c0e",
   "metadata": {},
   "outputs": [],
   "source": [
    "class CCF(F):\n",
    "    def __init__(self, depth=28, width=2, norm=None):\n",
    "        super(CCF, self).__init__(depth, width, norm=norm)\n",
    "\n",
    "    def forward(self, x, y=None):\n",
    "        logits = self.classify(x)\n",
    "        if y is None:\n",
    "            return logits.logsumexp(1)\n",
    "        else:\n",
    "            return t.gather(logits, 1, y[:, None])"
   ]
  },
  {
   "cell_type": "code",
   "execution_count": 11,
   "id": "3f964e59",
   "metadata": {},
   "outputs": [],
   "source": [
    "def cycle(loader):\n",
    "    while True:\n",
    "        for data in loader:\n",
    "            yield data\n",
    "\n",
    "def init_random(bs):\n",
    "    return t.FloatTensor(bs, 3, 32, 32).uniform_(-1, 1)"
   ]
  },
  {
   "cell_type": "code",
   "execution_count": 12,
   "id": "8e0b7cf5",
   "metadata": {},
   "outputs": [],
   "source": [
    "def energy_dirivative(f,args,device):\n",
    "    def grad_norm(x):\n",
    "        x_k = t.autograd.Variable(x, requires_grad=True)\n",
    "        f_prime = t.autograd.grad(f(x_k).sum(), [x_k],create_graph=True, retain_graph=True)[0]\n",
    "        grad = f_prime.view(x.size(0), -1)\n",
    "        #print(grad)\n",
    "        return grad.norm(p=2, dim=1)\n",
    "    \n",
    "    transform_test = tr.Compose(\n",
    "        [tr.ToTensor(),\n",
    "         tr.Normalize((.5, .5, .5), (.5, .5, .5)),\n",
    "         lambda x: x + args.sigma * t.randn_like(x)]\n",
    "    )\n",
    "    \n",
    "    dset_real = tv.datasets.CIFAR100(root=\"../data\", transform=transform_test, download=True, train=args.train)\n",
    "    dload_real = DataLoader(dset_real, batch_size=100, shuffle=False, num_workers=4, drop_last=False)\n",
    "\n",
    "    real_scores=[]\n",
    "    for x, y in dload_real:\n",
    "        x = x.to(device)\n",
    "        scores = grad_norm(x).detach().cpu()\n",
    "        real_scores = np.append(real_scores,scores.numpy())\n",
    "        \n",
    "    return real_scores"
   ]
  },
  {
   "cell_type": "code",
   "execution_count": 13,
   "id": "d53e768f",
   "metadata": {},
   "outputs": [],
   "source": [
    "def main(args):\n",
    "    t.manual_seed(seed)\n",
    "    if t.cuda.is_available():\n",
    "        t.cuda.manual_seed_all(seed)\n",
    "\n",
    "    device = t.device('cuda' if t.cuda.is_available() else 'cpu')\n",
    "\n",
    "    model_cls = F if args.uncond else CCF\n",
    "    f = model_cls(args.depth, args.width, args.norm)\n",
    "    print(f\"loading model from {args.load_path}\")\n",
    "\n",
    "    # load em up\n",
    "    ckpt_dict = t.load(args.load_path)\n",
    "    f.load_state_dict(ckpt_dict[\"model_state_dict\"])\n",
    "    epoch=ckpt_dict['epoch']\n",
    "    print(f'The epoch used was {epoch}')\n",
    "    try:\n",
    "        replay_buffer = ckpt_dict[\"replay_buffer\"]\n",
    "    except:\n",
    "        pass\n",
    "\n",
    "    f = f.to(device)\n",
    "    return energy_dirivative(f,args,device)\n",
    "    "
   ]
  },
  {
   "cell_type": "code",
   "execution_count": 14,
   "id": "13395c90",
   "metadata": {},
   "outputs": [],
   "source": [
    "# Setup parameters\n",
    "class eval_args():\n",
    "    def __init__(self, param_dict):\n",
    "        self.eval = \"OOD\" #, type=str, choices=[\"uncond_samples\", \"cond_samples\", \"logp_hist\", \"OOD\", \"test_clf\", \"pri_energy\"])\n",
    "        self.score_fn = \"px\" #, type=str, choices=[\"px\", \"py\", \"pxgrad\"], help=\"For OODAUC, chooses what score function we use.\")\n",
    "        self.ood_dataset = \"svhn\" #, type=str, choices=[\"svhn\", \"cifar_interp\", \"cifar_100\", \"celeba\"], help=\"Chooses which dataset to compare against for OOD\")\n",
    "        self.dataset = \"cifar_test\" #, type=str, choices=[\"cifar_train\", \"cifar_test\", \"svhn_test\", \"svhn_train\"], help=\"Dataset to use when running test_clf for classification accuracy\")\n",
    "        self.datasets = [] # help=\"The datasets you wanna use to generate a log p(x) histogram\")\n",
    "        # optimization\n",
    "        self.batch_size = 64\n",
    "        # regularization\n",
    "        self.sigma = 3e-2\n",
    "        # network\n",
    "        self.norm = None #, choices=[None, \"norm\", \"batch\", \"instance\", \"layer\", \"act\"])\n",
    "        # EBM specific\n",
    "        self.n_steps = 20 # help=\"number of steps of SGLD per iteration, 100 works for short-run, 20 works for PCD\")\n",
    "        self.width = 10 # help=\"WRN width parameter\")\n",
    "        self.depth = 28 # help=\"WRN depth parameter\")\n",
    "        self.uncond = False # \"store_true\" # help=\"If set, then the EBM is unconditional\")\n",
    "        self.class_cond_p_x_sample = False #, action=\"store_true\", help=\"If set we sample from p(y)p(x|y), othewise sample from p(x),\" \"Sample quality higher if set, but classification accuracy better if not.\")\n",
    "        self.buffer_size = 0\n",
    "        self.reinit_freq = .05\n",
    "        self.sgld_lr = 1.0\n",
    "        self.sgld_std = 1e-2\n",
    "        # logging + evaluation\n",
    "        self.save_dir = 'output'\n",
    "        self.print_every = 100\n",
    "        self.n_sample_steps = 100\n",
    "        self.load_path = None\n",
    "        self.print_to_log = False\n",
    "        self.fresh_samples = False #\", action=\"store_true\", help=\"If set, then we generate a new replay buffer from scratch for conditional sampling,\"  \"Will be much slower.\")\n",
    "        self.datasets = []\n",
    "        self.fig_pre = \"\"\n",
    "        self.exp = \"\"\n",
    "        self.run = \"\"\n",
    "        self.train = True\n",
    "        \n",
    "        # set from inline dict\n",
    "        for key in param_dict:\n",
    "            #print(key, '->', param_dict[key])\n",
    "            setattr(self, key, param_dict[key])"
   ]
  },
  {
   "cell_type": "code",
   "execution_count": 28,
   "id": "ecc7328d",
   "metadata": {},
   "outputs": [
    {
     "name": "stdout",
     "output_type": "stream",
     "text": [
      "| Wide-Resnet 28x10\n",
      "loading model from ./production_cali_cf100/baseline/run1/best_valid_ckpt.pt\n",
      "Files already downloaded and verified\n",
      "Run  1 is complete!\n",
      "| Wide-Resnet 28x10\n",
      "loading model from ./production_cali_cf100/baseline/run2/best_valid_ckpt.pt\n",
      "Files already downloaded and verified\n",
      "Run  2 is complete!\n",
      "| Wide-Resnet 28x10\n",
      "loading model from ./production_cali_cf100/baseline/run3/best_valid_ckpt.pt\n",
      "Files already downloaded and verified\n",
      "Run  3 is complete!\n",
      "| Wide-Resnet 28x10\n",
      "loading model from ./production_cali_cf100/baseline/run4/best_valid_ckpt.pt\n",
      "Files already downloaded and verified\n",
      "Run  4 is complete!\n",
      "| Wide-Resnet 28x10\n",
      "loading model from ./production_cali_cf100/baseline/run5/best_valid_ckpt.pt\n",
      "Files already downloaded and verified\n",
      "Run  5 is complete!\n",
      "| Wide-Resnet 28x10\n",
      "loading model from ./production_cali_cf100/baseline/run6/best_valid_ckpt.pt\n",
      "Files already downloaded and verified\n",
      "Run  6 is complete!\n",
      "| Wide-Resnet 28x10\n",
      "loading model from ./production_cali_cf100/baseline/run7/best_valid_ckpt.pt\n",
      "Files already downloaded and verified\n",
      "Run  7 is complete!\n",
      "| Wide-Resnet 28x10\n",
      "loading model from ./production_cali_cf100/baseline/run8/best_valid_ckpt.pt\n",
      "Files already downloaded and verified\n",
      "Run  8 is complete!\n",
      "| Wide-Resnet 28x10\n",
      "loading model from ./production_cali_cf100/baseline/run9/best_valid_ckpt.pt\n",
      "Files already downloaded and verified\n",
      "Run  9 is complete!\n",
      "| Wide-Resnet 28x10\n",
      "loading model from ./production_cali_cf100/baseline/run10/best_valid_ckpt.pt\n",
      "Files already downloaded and verified\n",
      "Run 10 is complete!\n",
      "| Wide-Resnet 28x10\n",
      "loading model from ./production_cali_cf100/baseline/run11/best_valid_ckpt.pt\n",
      "Files already downloaded and verified\n",
      "Run 11 is complete!\n",
      "| Wide-Resnet 28x10\n",
      "loading model from ./production_cali_cf100/baseline/run12/best_valid_ckpt.pt\n",
      "Files already downloaded and verified\n",
      "Run 12 is complete!\n"
     ]
    }
   ],
   "source": [
    "lol = []\n",
    "for run in range(1,13):\n",
    "    inline_parms = {\"load_path\": f\"./production_cali_cf100/baseline/run{run}/best_valid_ckpt.pt\", \\\n",
    "                \"dataset\": \"cifar100_train\", \"train\": False}\n",
    "\n",
    "    g=main(eval_args(inline_parms))\n",
    "    lol.append(g)\n",
    "    print(f'Run {run:2d} is complete!')"
   ]
  },
  {
   "cell_type": "code",
   "execution_count": 41,
   "id": "26790f9b",
   "metadata": {},
   "outputs": [
    {
     "name": "stdout",
     "output_type": "stream",
     "text": [
      "| Wide-Resnet 28x10\n",
      "loading model from ./sgld1/best_valid_ckpt.pt\n",
      "The epoch used was 41\n",
      "Files already downloaded and verified\n",
      "Run  0 is complete!\n"
     ]
    }
   ],
   "source": [
    "lol = []\n",
    "for run in range(1):\n",
    "    inline_parms = {\"load_path\": f\"./sgld1/best_valid_ckpt.pt\", \\\n",
    "                \"dataset\": \"cifar100_train\",\"train\": False}\n",
    "\n",
    "    g=main(eval_args(inline_parms))\n",
    "    lol.append(g)\n",
    "    print(f'Run {run:2d} is complete!')"
   ]
  },
  {
   "cell_type": "code",
   "execution_count": 42,
   "id": "f18d02d8",
   "metadata": {},
   "outputs": [],
   "source": [
    "exp='sgld1'"
   ]
  },
  {
   "cell_type": "code",
   "execution_count": 43,
   "id": "30b571f1",
   "metadata": {},
   "outputs": [],
   "source": [
    "g=np.vstack(lol)\n",
    "np.save(f'./{exp}/cf100_sgld_energies_test.npy',g)\n"
   ]
  },
  {
   "cell_type": "code",
   "execution_count": 28,
   "id": "4e1b5028",
   "metadata": {},
   "outputs": [],
   "source": [
    "g=np.load(f'./{exp}/cf100_sgld_energies_test.npy')"
   ]
  },
  {
   "cell_type": "code",
   "execution_count": 44,
   "id": "6007d82d",
   "metadata": {},
   "outputs": [
    {
     "name": "stdout",
     "output_type": "stream",
     "text": [
      "10000\n",
      "0.4470293989263475\n"
     ]
    }
   ],
   "source": [
    "#g=np.vstack(lol)\n",
    "g=g[0]\n",
    "print(len(g))\n",
    "#print(g.mean())\n",
    "print(sum(g)/len(g))"
   ]
  },
  {
   "cell_type": "code",
   "execution_count": 45,
   "id": "6c86265d",
   "metadata": {},
   "outputs": [
    {
     "name": "stdout",
     "output_type": "stream",
     "text": [
      "45000\n"
     ]
    },
    {
     "ename": "IndexError",
     "evalue": "index 23716 is out of bounds for axis 0 with size 10000",
     "output_type": "error",
     "traceback": [
      "\u001b[0;31m---------------------------------------------------------------------------\u001b[0m",
      "\u001b[0;31mIndexError\u001b[0m                                Traceback (most recent call last)",
      "\u001b[0;32m/tmp/ipykernel_120125/676962299.py\u001b[0m in \u001b[0;36m<module>\u001b[0;34m\u001b[0m\n\u001b[1;32m      5\u001b[0m \u001b[0mprint\u001b[0m\u001b[0;34m(\u001b[0m\u001b[0mlen\u001b[0m\u001b[0;34m(\u001b[0m\u001b[0mline\u001b[0m\u001b[0;34m)\u001b[0m\u001b[0;34m)\u001b[0m\u001b[0;34m\u001b[0m\u001b[0;34m\u001b[0m\u001b[0m\n\u001b[1;32m      6\u001b[0m \u001b[0;32mfor\u001b[0m \u001b[0midx\u001b[0m \u001b[0;32min\u001b[0m \u001b[0mline\u001b[0m\u001b[0;34m:\u001b[0m\u001b[0;34m\u001b[0m\u001b[0;34m\u001b[0m\u001b[0m\n\u001b[0;32m----> 7\u001b[0;31m     \u001b[0mgt\u001b[0m\u001b[0;34m.\u001b[0m\u001b[0mappend\u001b[0m\u001b[0;34m(\u001b[0m\u001b[0mg\u001b[0m\u001b[0;34m[\u001b[0m\u001b[0midx\u001b[0m\u001b[0;34m]\u001b[0m\u001b[0;34m)\u001b[0m\u001b[0;34m\u001b[0m\u001b[0;34m\u001b[0m\u001b[0m\n\u001b[0m\u001b[1;32m      8\u001b[0m \u001b[0;34m\u001b[0m\u001b[0m\n\u001b[1;32m      9\u001b[0m \u001b[0mprint\u001b[0m\u001b[0;34m(\u001b[0m\u001b[0msum\u001b[0m\u001b[0;34m(\u001b[0m\u001b[0mgt\u001b[0m\u001b[0;34m)\u001b[0m\u001b[0;34m/\u001b[0m\u001b[0mlen\u001b[0m\u001b[0;34m(\u001b[0m\u001b[0mgt\u001b[0m\u001b[0;34m)\u001b[0m\u001b[0;34m)\u001b[0m\u001b[0;34m\u001b[0m\u001b[0;34m\u001b[0m\u001b[0m\n",
      "\u001b[0;31mIndexError\u001b[0m: index 23716 is out of bounds for axis 0 with size 10000"
     ]
    }
   ],
   "source": [
    "with open(f'./{exp}/train_indices.txt','r') as tif:\n",
    "    line = [int(i) for i in tif.readlines()[0].split(' ')]\n",
    "    \n",
    "gt = []\n",
    "print(len(line))\n",
    "for idx in line:\n",
    "    gt.append(g[idx])\n",
    "    \n",
    "print(sum(gt)/len(gt))"
   ]
  },
  {
   "cell_type": "code",
   "execution_count": 38,
   "id": "96df4d44",
   "metadata": {},
   "outputs": [],
   "source": [
    "g=gt"
   ]
  },
  {
   "cell_type": "code",
   "execution_count": 54,
   "id": "0067daea",
   "metadata": {},
   "outputs": [
    {
     "name": "stdout",
     "output_type": "stream",
     "text": [
      "175\n"
     ]
    }
   ],
   "source": [
    "print(sum([i>5 for i in g]))"
   ]
  },
  {
   "cell_type": "code",
   "execution_count": 30,
   "id": "dd1a6b89",
   "metadata": {},
   "outputs": [
    {
     "data": {
      "text/plain": [
       "10000"
      ]
     },
     "execution_count": 30,
     "metadata": {},
     "output_type": "execute_result"
    }
   ],
   "source": [
    "len(g)"
   ]
  },
  {
   "cell_type": "code",
   "execution_count": 63,
   "id": "d131bd85",
   "metadata": {},
   "outputs": [],
   "source": [
    "g=g12.mean(axis=0)\n",
    "gstd=g12.std(axis=0)"
   ]
  },
  {
   "cell_type": "code",
   "execution_count": 61,
   "id": "646d69c2",
   "metadata": {},
   "outputs": [
    {
     "ename": "NameError",
     "evalue": "name 'gstd' is not defined",
     "output_type": "error",
     "traceback": [
      "\u001b[0;31m---------------------------------------------------------------------------\u001b[0m",
      "\u001b[0;31mNameError\u001b[0m                                 Traceback (most recent call last)",
      "\u001b[0;32m/tmp/ipykernel_81564/1002214125.py\u001b[0m in \u001b[0;36m<module>\u001b[0;34m\u001b[0m\n\u001b[1;32m      3\u001b[0m \u001b[0max\u001b[0m\u001b[0;34m.\u001b[0m\u001b[0mplot\u001b[0m\u001b[0;34m(\u001b[0m\u001b[0mnp\u001b[0m\u001b[0;34m.\u001b[0m\u001b[0marange\u001b[0m\u001b[0;34m(\u001b[0m\u001b[0mlen\u001b[0m\u001b[0;34m(\u001b[0m\u001b[0mg\u001b[0m\u001b[0;34m)\u001b[0m\u001b[0;34m)\u001b[0m\u001b[0;34m,\u001b[0m\u001b[0mg\u001b[0m\u001b[0;34m,\u001b[0m\u001b[0malpha\u001b[0m\u001b[0;34m=\u001b[0m\u001b[0;36m1\u001b[0m\u001b[0;34m)\u001b[0m\u001b[0;34m\u001b[0m\u001b[0;34m\u001b[0m\u001b[0m\n\u001b[1;32m      4\u001b[0m \u001b[0;31m#ax.errorbar(np.arange(len(g)),g,yerr=gstd, fmt='none', ecolor='orange',alpha=1)\u001b[0m\u001b[0;34m\u001b[0m\u001b[0;34m\u001b[0m\u001b[0;34m\u001b[0m\u001b[0m\n\u001b[0;32m----> 5\u001b[0;31m \u001b[0max\u001b[0m\u001b[0;34m.\u001b[0m\u001b[0mfill_between\u001b[0m\u001b[0;34m(\u001b[0m\u001b[0mnp\u001b[0m\u001b[0;34m.\u001b[0m\u001b[0marange\u001b[0m\u001b[0;34m(\u001b[0m\u001b[0mlen\u001b[0m\u001b[0;34m(\u001b[0m\u001b[0mg\u001b[0m\u001b[0;34m)\u001b[0m\u001b[0;34m)\u001b[0m\u001b[0;34m,\u001b[0m\u001b[0mg\u001b[0m\u001b[0;34m+\u001b[0m\u001b[0mgstd\u001b[0m\u001b[0;34m,\u001b[0m\u001b[0mg\u001b[0m\u001b[0;34m-\u001b[0m\u001b[0mgstd\u001b[0m\u001b[0;34m,\u001b[0m\u001b[0mcolor\u001b[0m\u001b[0;34m=\u001b[0m\u001b[0;34m'orange'\u001b[0m\u001b[0;34m)\u001b[0m\u001b[0;34m\u001b[0m\u001b[0;34m\u001b[0m\u001b[0m\n\u001b[0m\u001b[1;32m      6\u001b[0m \u001b[0max\u001b[0m\u001b[0;34m.\u001b[0m\u001b[0mplot\u001b[0m\u001b[0;34m(\u001b[0m\u001b[0;34m[\u001b[0m\u001b[0;36m0\u001b[0m\u001b[0;34m,\u001b[0m\u001b[0mlen\u001b[0m\u001b[0;34m(\u001b[0m\u001b[0mg\u001b[0m\u001b[0;34m)\u001b[0m\u001b[0;34m]\u001b[0m\u001b[0;34m,\u001b[0m\u001b[0;34m[\u001b[0m\u001b[0;36m5\u001b[0m\u001b[0;34m,\u001b[0m\u001b[0;36m5\u001b[0m\u001b[0;34m]\u001b[0m\u001b[0;34m,\u001b[0m\u001b[0mcolor\u001b[0m\u001b[0;34m=\u001b[0m\u001b[0;34m'red'\u001b[0m\u001b[0;34m)\u001b[0m\u001b[0;34m\u001b[0m\u001b[0;34m\u001b[0m\u001b[0m\n\u001b[1;32m      7\u001b[0m \u001b[0max\u001b[0m\u001b[0;34m.\u001b[0m\u001b[0mset_ylim\u001b[0m\u001b[0;34m(\u001b[0m\u001b[0;34m[\u001b[0m\u001b[0;34m-\u001b[0m\u001b[0;36m2\u001b[0m\u001b[0;34m,\u001b[0m\u001b[0;36m18\u001b[0m\u001b[0;34m]\u001b[0m\u001b[0;34m)\u001b[0m\u001b[0;34m\u001b[0m\u001b[0;34m\u001b[0m\u001b[0m\n",
      "\u001b[0;31mNameError\u001b[0m: name 'gstd' is not defined"
     ]
    },
    {
     "data": {
      "image/png": "[encoded data removed]",
      "text/plain": [
       "<Figure size 432x288 with 1 Axes>"
      ]
     },
     "metadata": {
      "needs_background": "light"
     },
     "output_type": "display_data"
    }
   ],
   "source": [
    "fig = plt.figure()\n",
    "ax = plt.gca()\n",
    "ax.plot(np.arange(len(g)),g,alpha=1)\n",
    "#ax.errorbar(np.arange(len(g)),g,yerr=gstd, fmt='none', ecolor='orange',alpha=1)\n",
    "ax.fill_between(np.arange(len(g)),g+gstd,g-gstd,color='orange')\n",
    "ax.plot([0,len(g)],[5,5],color='red')\n",
    "ax.set_ylim([-2,18])\n",
    "fig.show()"
   ]
  },
  {
   "cell_type": "code",
   "execution_count": 46,
   "id": "f95b7533",
   "metadata": {},
   "outputs": [
    {
     "name": "stderr",
     "output_type": "stream",
     "text": [
      "/usr/local/anaconda3/envs/JEM/lib/python3.7/site-packages/ipykernel_launcher.py:8: UserWarning: Matplotlib is currently using module://matplotlib_inline.backend_inline, which is a non-GUI backend, so cannot show the figure.\n",
      "  \n"
     ]
    },
    {
     "data": {
      "image/png": "[encoded data removed]",
      "text/plain": [
       "<Figure size 432x288 with 1 Axes>"
      ]
     },
     "metadata": {
      "needs_background": "light"
     },
     "output_type": "display_data"
    }
   ],
   "source": [
    "#g=g12.max(axis=0)\n",
    "#print(g.mean())\n",
    "fig = plt.figure()\n",
    "ax = plt.gca()\n",
    "ax.plot(np.arange(len(g)),g,alpha=1)\n",
    "ax.plot([0,len(g)],[5,5],color='red')\n",
    "ax.set_ylim([-2,18])\n",
    "fig.show()"
   ]
  },
  {
   "cell_type": "code",
   "execution_count": 47,
   "id": "8888bc57",
   "metadata": {},
   "outputs": [
    {
     "name": "stderr",
     "output_type": "stream",
     "text": [
      "/usr/local/anaconda3/envs/JEM/lib/python3.7/site-packages/ipykernel_launcher.py:4: UserWarning: Matplotlib is currently using module://matplotlib_inline.backend_inline, which is a non-GUI backend, so cannot show the figure.\n",
      "  after removing the cwd from sys.path.\n"
     ]
    },
    {
     "data": {
      "image/png": "[encoded data removed]",
      "text/plain": [
       "<Figure size 432x288 with 1 Axes>"
      ]
     },
     "metadata": {
      "needs_background": "light"
     },
     "output_type": "display_data"
    }
   ],
   "source": [
    "fig = plt.figure()\n",
    "ax = plt.gca()\n",
    "ax.hist(g,1000)\n",
    "fig.show()"
   ]
  },
  {
   "cell_type": "code",
   "execution_count": 72,
   "id": "82d38018",
   "metadata": {},
   "outputs": [
    {
     "data": {
      "text/plain": [
       "1199"
      ]
     },
     "execution_count": 72,
     "metadata": {},
     "output_type": "execute_result"
    }
   ],
   "source": [
    "len(badimg)"
   ]
  },
  {
   "cell_type": "code",
   "execution_count": 74,
   "id": "ada5f90e",
   "metadata": {},
   "outputs": [
    {
     "name": "stdout",
     "output_type": "stream",
     "text": [
      "Files already downloaded and verified\n"
     ]
    }
   ],
   "source": [
    "transform_test = tr.Compose([tr.ToTensor()])\n",
    "dset_real = tv.datasets.CIFAR100(root=\"../data\", transform=transform_test, download=True, train=False)\n",
    "dload_real = DataLoader(dset_real, batch_size=1, shuffle=False, num_workers=4, drop_last=False)\n",
    "\n",
    "ls = [0]*10000\n",
    "imgs=[0]*10000\n",
    "counter=0\n",
    "for img, y in dload_real:\n",
    "    ls[counter]=y.numpy()\n",
    "    imgs[counter]=img.numpy()\n",
    "    counter+=1\n",
    "\n"
   ]
  },
  {
   "cell_type": "code",
   "execution_count": 92,
   "id": "29dacdf7",
   "metadata": {},
   "outputs": [
    {
     "name": "stdout",
     "output_type": "stream",
     "text": [
      "plain\n",
      "energy_der: 5.44\n"
     ]
    },
    {
     "data": {
      "image/png": "[encoded data removed]",
      "text/plain": [
       "<Figure size 216x216 with 1 Axes>"
      ]
     },
     "metadata": {
      "needs_background": "light"
     },
     "output_type": "display_data"
    },
    {
     "name": "stdout",
     "output_type": "stream",
     "text": [
      "bed\n",
      "energy_der: 5.57\n"
     ]
    },
    {
     "data": {
      "image/png": "[encoded data removed]",
      "text/plain": [
       "<Figure size 216x216 with 1 Axes>"
      ]
     },
     "metadata": {
      "needs_background": "light"
     },
     "output_type": "display_data"
    },
    {
     "name": "stdout",
     "output_type": "stream",
     "text": [
      "streetcar\n",
      "energy_der: 7.48\n"
     ]
    },
    {
     "data": {
      "image/png": "[encoded data removed]",
      "text/plain": [
       "<Figure size 216x216 with 1 Axes>"
      ]
     },
     "metadata": {
      "needs_background": "light"
     },
     "output_type": "display_data"
    },
    {
     "name": "stdout",
     "output_type": "stream",
     "text": [
      "snail\n",
      "energy_der: 5.15\n"
     ]
    },
    {
     "data": {
      "image/png": "[encoded data removed]",
      "text/plain": [
       "<Figure size 216x216 with 1 Axes>"
      ]
     },
     "metadata": {
      "needs_background": "light"
     },
     "output_type": "display_data"
    },
    {
     "name": "stdout",
     "output_type": "stream",
     "text": [
      "shrew\n",
      "energy_der: 5.58\n"
     ]
    },
    {
     "data": {
      "image/png": "[encoded data removed]",
      "text/plain": [
       "<Figure size 216x216 with 1 Axes>"
      ]
     },
     "metadata": {
      "needs_background": "light"
     },
     "output_type": "display_data"
    }
   ],
   "source": [
    "#badimg=[x for x in range(len(g)) if g[x] <3] \n",
    "classorder=[]\n",
    "for bi in badimg: \n",
    "    clas=ls[bi][0]\n",
    "    if clas not in classorder: classorder.append(clas)\n",
    "    print(dset_real.classes[clas],\"\\nenergy_der: \",g[bi].round(2),sep='')\n",
    "    plt.figure(figsize=[3,3])\n",
    "    npimg = imgs[bi]\n",
    "    npimg = np.rot90(np.transpose(npimg)[:,:,:,0],k=3)\n",
    "    plt.imshow(npimg,extent=[0,32,0,48],interpolation=None) \n",
    "    plt.axis('off')\n",
    "    plt.show()"
   ]
  },
  {
   "cell_type": "code",
   "execution_count": 93,
   "id": "0bb0c41a",
   "metadata": {},
   "outputs": [
    {
     "data": {
      "text/plain": [
       "[60, 5, 81, 77, 74]"
      ]
     },
     "execution_count": 93,
     "metadata": {},
     "output_type": "execute_result"
    }
   ],
   "source": [
    "classorder"
   ]
  },
  {
   "cell_type": "code",
   "execution_count": 94,
   "id": "9391ac0d",
   "metadata": {},
   "outputs": [
    {
     "name": "stdout",
     "output_type": "stream",
     "text": [
      "[60, 5, 81, 77, 74]\n",
      "['plain', 'bed', 'streetcar', 'snail', 'shrew']\n",
      "[[49]\n",
      " [33]\n",
      " [72]\n",
      " ...\n",
      " [51]\n",
      " [42]\n",
      " [70]]\n"
     ]
    }
   ],
   "source": [
    "badclasses = classorder\n",
    "print(badclasses)\n",
    "print([dset_real.classes[i] for i in badclasses])\n",
    "ls = np.vstack(ls)\n",
    "print(ls)"
   ]
  },
  {
   "cell_type": "code",
   "execution_count": 98,
   "id": "e92264bc",
   "metadata": {},
   "outputs": [
    {
     "name": "stdout",
     "output_type": "stream",
     "text": [
      "plain\n",
      "energy_der: 0.09\n"
     ]
    },
    {
     "data": {
      "image/png": "[encoded data removed]",
      "text/plain": [
       "<Figure size 129.6x129.6 with 1 Axes>"
      ]
     },
     "metadata": {
      "needs_background": "light"
     },
     "output_type": "display_data"
    },
    {
     "name": "stdout",
     "output_type": "stream",
     "text": [
      "plain\n",
      "energy_der: 0.05\n"
     ]
    },
    {
     "data": {
      "image/png": "[encoded data removed]",
      "text/plain": [
       "<Figure size 129.6x129.6 with 1 Axes>"
      ]
     },
     "metadata": {
      "needs_background": "light"
     },
     "output_type": "display_data"
    },
    {
     "name": "stdout",
     "output_type": "stream",
     "text": [
      "plain\n",
      "energy_der: 0.05\n"
     ]
    },
    {
     "data": {
      "image/png": "[encoded data removed]",
      "text/plain": [
       "<Figure size 129.6x129.6 with 1 Axes>"
      ]
     },
     "metadata": {
      "needs_background": "light"
     },
     "output_type": "display_data"
    },
    {
     "name": "stdout",
     "output_type": "stream",
     "text": [
      "plain\n",
      "energy_der: 0.04\n"
     ]
    },
    {
     "data": {
      "image/png": "[encoded data removed]",
      "text/plain": [
       "<Figure size 129.6x129.6 with 1 Axes>"
      ]
     },
     "metadata": {
      "needs_background": "light"
     },
     "output_type": "display_data"
    },
    {
     "name": "stdout",
     "output_type": "stream",
     "text": [
      "plain\n",
      "energy_der: 0.04\n"
     ]
    },
    {
     "data": {
      "image/png": "[encoded data removed]",
      "text/plain": [
       "<Figure size 129.6x129.6 with 1 Axes>"
      ]
     },
     "metadata": {
      "needs_background": "light"
     },
     "output_type": "display_data"
    },
    {
     "name": "stdout",
     "output_type": "stream",
     "text": [
      "bed\n",
      "energy_der: 0.06\n"
     ]
    },
    {
     "data": {
      "image/png": "[encoded data removed]",
      "text/plain": [
       "<Figure size 129.6x129.6 with 1 Axes>"
      ]
     },
     "metadata": {
      "needs_background": "light"
     },
     "output_type": "display_data"
    },
    {
     "name": "stdout",
     "output_type": "stream",
     "text": [
      "bed\n",
      "energy_der: 0.09\n"
     ]
    },
    {
     "data": {
      "image/png": "[encoded data removed]",
      "text/plain": [
       "<Figure size 129.6x129.6 with 1 Axes>"
      ]
     },
     "metadata": {
      "needs_background": "light"
     },
     "output_type": "display_data"
    },
    {
     "name": "stdout",
     "output_type": "stream",
     "text": [
      "bed\n",
      "energy_der: 0.08\n"
     ]
    },
    {
     "data": {
      "image/png": "[encoded data removed]",
      "text/plain": [
       "<Figure size 129.6x129.6 with 1 Axes>"
      ]
     },
     "metadata": {
      "needs_background": "light"
     },
     "output_type": "display_data"
    },
    {
     "name": "stdout",
     "output_type": "stream",
     "text": [
      "bed\n",
      "energy_der: 0.06\n"
     ]
    },
    {
     "data": {
      "image/png": "[encoded data removed]",
      "text/plain": [
       "<Figure size 129.6x129.6 with 1 Axes>"
      ]
     },
     "metadata": {
      "needs_background": "light"
     },
     "output_type": "display_data"
    },
    {
     "name": "stdout",
     "output_type": "stream",
     "text": [
      "bed\n",
      "energy_der: 0.07\n"
     ]
    },
    {
     "data": {
      "image/png": "[encoded data removed]",
      "text/plain": [
       "<Figure size 129.6x129.6 with 1 Axes>"
      ]
     },
     "metadata": {
      "needs_background": "light"
     },
     "output_type": "display_data"
    },
    {
     "name": "stdout",
     "output_type": "stream",
     "text": [
      "streetcar\n",
      "energy_der: 0.08\n"
     ]
    },
    {
     "data": {
      "image/png": "[encoded data removed]",
      "text/plain": [
       "<Figure size 129.6x129.6 with 1 Axes>"
      ]
     },
     "metadata": {
      "needs_background": "light"
     },
     "output_type": "display_data"
    },
    {
     "name": "stdout",
     "output_type": "stream",
     "text": [
      "streetcar\n",
      "energy_der: 0.07\n"
     ]
    },
    {
     "data": {
      "image/png": "[encoded data removed]",
      "text/plain": [
       "<Figure size 129.6x129.6 with 1 Axes>"
      ]
     },
     "metadata": {
      "needs_background": "light"
     },
     "output_type": "display_data"
    },
    {
     "name": "stdout",
     "output_type": "stream",
     "text": [
      "streetcar\n",
      "energy_der: 0.07\n"
     ]
    },
    {
     "data": {
      "image/png": "[encoded data removed]",
      "text/plain": [
       "<Figure size 129.6x129.6 with 1 Axes>"
      ]
     },
     "metadata": {
      "needs_background": "light"
     },
     "output_type": "display_data"
    },
    {
     "name": "stdout",
     "output_type": "stream",
     "text": [
      "streetcar\n",
      "energy_der: 0.05\n"
     ]
    },
    {
     "data": {
      "image/png": "[encoded data removed]",
      "text/plain": [
       "<Figure size 129.6x129.6 with 1 Axes>"
      ]
     },
     "metadata": {
      "needs_background": "light"
     },
     "output_type": "display_data"
    },
    {
     "name": "stdout",
     "output_type": "stream",
     "text": [
      "streetcar\n",
      "energy_der: 0.07\n"
     ]
    },
    {
     "data": {
      "image/png": "[encoded data removed]",
      "text/plain": [
       "<Figure size 129.6x129.6 with 1 Axes>"
      ]
     },
     "metadata": {
      "needs_background": "light"
     },
     "output_type": "display_data"
    },
    {
     "name": "stdout",
     "output_type": "stream",
     "text": [
      "snail\n",
      "energy_der: 0.1\n"
     ]
    },
    {
     "data": {
      "image/png": "[encoded data removed]",
      "text/plain": [
       "<Figure size 129.6x129.6 with 1 Axes>"
      ]
     },
     "metadata": {
      "needs_background": "light"
     },
     "output_type": "display_data"
    },
    {
     "name": "stdout",
     "output_type": "stream",
     "text": [
      "snail\n",
      "energy_der: 0.06\n"
     ]
    },
    {
     "data": {
      "image/png": "[encoded data removed]",
      "text/plain": [
       "<Figure size 129.6x129.6 with 1 Axes>"
      ]
     },
     "metadata": {
      "needs_background": "light"
     },
     "output_type": "display_data"
    },
    {
     "name": "stdout",
     "output_type": "stream",
     "text": [
      "snail\n",
      "energy_der: 0.1\n"
     ]
    },
    {
     "data": {
      "image/png": "[encoded data removed]",
      "text/plain": [
       "<Figure size 129.6x129.6 with 1 Axes>"
      ]
     },
     "metadata": {
      "needs_background": "light"
     },
     "output_type": "display_data"
    },
    {
     "name": "stdout",
     "output_type": "stream",
     "text": [
      "snail\n",
      "energy_der: 0.07\n"
     ]
    },
    {
     "data": {
      "image/png": "[encoded data removed]",
      "text/plain": [
       "<Figure size 129.6x129.6 with 1 Axes>"
      ]
     },
     "metadata": {
      "needs_background": "light"
     },
     "output_type": "display_data"
    },
    {
     "name": "stdout",
     "output_type": "stream",
     "text": [
      "snail\n",
      "energy_der: 0.08\n"
     ]
    },
    {
     "data": {
      "image/png": "[encoded data removed]",
      "text/plain": [
       "<Figure size 129.6x129.6 with 1 Axes>"
      ]
     },
     "metadata": {
      "needs_background": "light"
     },
     "output_type": "display_data"
    },
    {
     "name": "stdout",
     "output_type": "stream",
     "text": [
      "shrew\n",
      "energy_der: 0.09\n"
     ]
    },
    {
     "data": {
      "image/png": "[encoded data removed]",
      "text/plain": [
       "<Figure size 129.6x129.6 with 1 Axes>"
      ]
     },
     "metadata": {
      "needs_background": "light"
     },
     "output_type": "display_data"
    },
    {
     "name": "stdout",
     "output_type": "stream",
     "text": [
      "shrew\n",
      "energy_der: 0.08\n"
     ]
    },
    {
     "data": {
      "image/png": "[encoded data removed]",
      "text/plain": [
       "<Figure size 129.6x129.6 with 1 Axes>"
      ]
     },
     "metadata": {
      "needs_background": "light"
     },
     "output_type": "display_data"
    },
    {
     "name": "stdout",
     "output_type": "stream",
     "text": [
      "shrew\n",
      "energy_der: 0.08\n"
     ]
    },
    {
     "data": {
      "image/png": "[encoded data removed]",
      "text/plain": [
       "<Figure size 129.6x129.6 with 1 Axes>"
      ]
     },
     "metadata": {
      "needs_background": "light"
     },
     "output_type": "display_data"
    },
    {
     "name": "stdout",
     "output_type": "stream",
     "text": [
      "shrew\n",
      "energy_der: 0.09\n"
     ]
    },
    {
     "data": {
      "image/png": "[encoded data removed]",
      "text/plain": [
       "<Figure size 129.6x129.6 with 1 Axes>"
      ]
     },
     "metadata": {
      "needs_background": "light"
     },
     "output_type": "display_data"
    },
    {
     "name": "stdout",
     "output_type": "stream",
     "text": [
      "shrew\n",
      "energy_der: 0.09\n"
     ]
    },
    {
     "data": {
      "image/png": "[encoded data removed]",
      "text/plain": [
       "<Figure size 129.6x129.6 with 1 Axes>"
      ]
     },
     "metadata": {
      "needs_background": "light"
     },
     "output_type": "display_data"
    }
   ],
   "source": [
    "snum=5\n",
    "for bc in badclasses:\n",
    "    samples = random.choices([i for i, x in enumerate(ls) if x==bc and g[i]<0.1],k=snum)\n",
    "    for s in samples:\n",
    "        print(dset_real.classes[ls[s][0]],\"\\nenergy_der: \",g[s].round(2),sep='')\n",
    "        plt.figure(figsize=[1.8,1.8])\n",
    "        npimg = imgs[s]\n",
    "        npimg = np.rot90(np.transpose(npimg)[:,:,:,0],k=3)\n",
    "        plt.imshow(npimg,extent=[0,32,0,48],interpolation=None) \n",
    "        plt.axis('off')\n",
    "        plt.show()\n"
   ]
  },
  {
   "cell_type": "code",
   "execution_count": 75,
   "id": "6e01e2ed",
   "metadata": {},
   "outputs": [
    {
     "data": {
      "text/plain": [
       "[334,\n",
       " 441,\n",
       " 459,\n",
       " 657,\n",
       " 1142,\n",
       " 1206,\n",
       " 1219,\n",
       " 1272,\n",
       " 1274,\n",
       " 1314,\n",
       " 1331,\n",
       " 1333,\n",
       " 1389,\n",
       " 1402,\n",
       " 1579,\n",
       " 1691,\n",
       " 1734,\n",
       " 1813,\n",
       " 2044,\n",
       " 2062,\n",
       " 2068,\n",
       " 2251,\n",
       " 2348,\n",
       " 2378,\n",
       " 2382,\n",
       " 2392,\n",
       " 2422,\n",
       " 2558,\n",
       " 2581,\n",
       " 2607,\n",
       " 2765,\n",
       " 2771,\n",
       " 2787,\n",
       " 2848,\n",
       " 2922,\n",
       " 2928,\n",
       " 2944,\n",
       " 3260,\n",
       " 3448,\n",
       " 3753,\n",
       " 3780,\n",
       " 3793,\n",
       " 3925,\n",
       " 4024,\n",
       " 4223,\n",
       " 4226,\n",
       " 4409,\n",
       " 4480,\n",
       " 4518,\n",
       " 4699,\n",
       " 4829,\n",
       " 4937,\n",
       " 5054,\n",
       " 5101,\n",
       " 5146,\n",
       " 5230,\n",
       " 5239,\n",
       " 5415,\n",
       " 5549,\n",
       " 5580,\n",
       " 5647,\n",
       " 5776,\n",
       " 6082,\n",
       " 6138,\n",
       " 6193,\n",
       " 6289,\n",
       " 6341,\n",
       " 6368,\n",
       " 6408,\n",
       " 6477,\n",
       " 6591,\n",
       " 6813,\n",
       " 7126,\n",
       " 7223,\n",
       " 7344,\n",
       " 7366,\n",
       " 7622,\n",
       " 7681,\n",
       " 7690,\n",
       " 7794,\n",
       " 7885,\n",
       " 7895,\n",
       " 7934,\n",
       " 7967,\n",
       " 8071,\n",
       " 8089,\n",
       " 8281,\n",
       " 8298,\n",
       " 8554,\n",
       " 8670,\n",
       " 8786,\n",
       " 8814,\n",
       " 9217,\n",
       " 9279,\n",
       " 9452,\n",
       " 9580,\n",
       " 9617,\n",
       " 9619,\n",
       " 9753,\n",
       " 9801]"
      ]
     },
     "execution_count": 75,
     "metadata": {},
     "output_type": "execute_result"
    }
   ],
   "source": [
    "[i for i,x in enumerate(ls) if x==5]"
   ]
  },
  {
   "cell_type": "code",
   "execution_count": 90,
   "id": "2fb6e904",
   "metadata": {},
   "outputs": [
    {
     "data": {
      "text/plain": [
       "array([99])"
      ]
     },
     "execution_count": 90,
     "metadata": {},
     "output_type": "execute_result"
    }
   ],
   "source": [
    "max(ls)"
   ]
  },
  {
   "cell_type": "code",
   "execution_count": 43,
   "id": "6ad29f31",
   "metadata": {},
   "outputs": [
    {
     "data": {
      "text/plain": [
       "array([3, 4])"
      ]
     },
     "execution_count": 43,
     "metadata": {},
     "output_type": "execute_result"
    }
   ],
   "source": [
    "np.max([[1,2],[3,4]],axis=0)"
   ]
  },
  {
   "cell_type": "code",
   "execution_count": null,
   "id": "6588e932",
   "metadata": {},
   "outputs": [],
   "source": []
  }
 ],
 "metadata": {
  "kernelspec": {
   "display_name": "Python 3 (ipykernel)",
   "language": "python",
   "name": "python3"
  },
  "language_info": {
   "codemirror_mode": {
    "name": "ipython",
    "version": 3
   },
   "file_extension": ".py",
   "mimetype": "text/x-python",
   "name": "python",
   "nbconvert_exporter": "python",
   "pygments_lexer": "ipython3",
   "version": "3.7.3"
  }
 },
 "nbformat": 4,
 "nbformat_minor": 5
}
