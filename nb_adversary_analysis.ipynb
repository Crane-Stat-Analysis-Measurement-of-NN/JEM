{
 "cells": [
  {
   "cell_type": "code",
   "execution_count": 40,
   "id": "5db79eaf",
   "metadata": {},
   "outputs": [],
   "source": [
    "import matplotlib.pyplot as plt\n",
    "import numpy as np\n",
    "import pdb"
   ]
  },
  {
   "cell_type": "code",
   "execution_count": 29,
   "id": "1acdbe94",
   "metadata": {},
   "outputs": [],
   "source": [
    "def imgshape(x):\n",
    "    new = np.zeros((32,32,3))\n",
    "    for c in range(3):\n",
    "        for i in range(32):\n",
    "            for j in range(32):\n",
    "                new[i][j][c] = x[c][i][j]\n",
    "    return new"
   ]
  },
  {
   "cell_type": "code",
   "execution_count": 34,
   "id": "cf9331bc",
   "metadata": {},
   "outputs": [],
   "source": [
    "exps = ['baseline','EVEM','EVEM_bm','EVEM_bm_cf10','sgld1']"
   ]
  },
  {
   "cell_type": "code",
   "execution_count": 48,
   "id": "68087560",
   "metadata": {},
   "outputs": [
    {
     "name": "stdout",
     "output_type": "stream",
     "text": [
      "baseline\n",
      "EVEM\n",
      "EVEM_bm\n",
      "EVEM_bm_cf10\n",
      "sgld1\n"
     ]
    }
   ],
   "source": [
    "res = {}\n",
    "for exp in exps:\n",
    "    print(exp)\n",
    "    adv = np.load(f'./{exp}/adv_l2/adversarials_batch_0.npy',allow_pickle=True)\n",
    "    norm = np.linalg.norm\n",
    "\n",
    "    for pk in adv:\n",
    "        if(type(pk)==str): continue\n",
    "        #f, axs = plt.subplots(1,2, sharey=True)\n",
    "        l2dist = norm((pk[2]-pk[0]).flatten()*255,2)\n",
    "        #for idx, ax in enumerate(axs):\n",
    "        #    amg = pk[(idx)*2]\n",
    "        #    img = imgshape(amg)\n",
    "        #    ax.imshow(img)\n",
    "        #    ax.set_title(['Org','Adv'][idx])\n",
    "        #f.suptitle(f'Experiment: {exp}\\nDistance: {pk[4]._value}\\nL2norm: {l2dist}',ha='center',va='top')\n",
    "        #f.show()\n",
    "        \n",
    "    dists=[]\n",
    "    for pk in adv:\n",
    "        if(type(pk)==str): continue\n",
    "        l2dist = norm((pk[2]-pk[0]).flatten()*255,2)\n",
    "        dists.append(l2dist)\n",
    "    res[f'dists{exp}'] = dists.copy()\n",
    "\n",
    "    x=np.arange(0,300,1)\n",
    "    lims = []\n",
    "    for i in x:\n",
    "        lims.append(sum(dists>i)/len(dists))\n",
    "    res[f'lims{exp}'] = lims.copy()"
   ]
  },
  {
   "cell_type": "code",
   "execution_count": null,
   "id": "0d8661f4",
   "metadata": {},
   "outputs": [],
   "source": []
  },
  {
   "cell_type": "code",
   "execution_count": 49,
   "id": "93aadd8e",
   "metadata": {},
   "outputs": [
    {
     "name": "stderr",
     "output_type": "stream",
     "text": [
      "/usr/local/anaconda3/envs/JEM/lib/python3.7/site-packages/ipykernel_launcher.py:13: UserWarning: Matplotlib is currently using module://matplotlib_inline.backend_inline, which is a non-GUI backend, so cannot show the figure.\n",
      "  del sys.path[0]\n"
     ]
    },
    {
     "data": {
      "image/png": "[encoded data removed]",
      "text/plain": [
       "<Figure size 432x288 with 1 Axes>"
      ]
     },
     "metadata": {
      "needs_background": "light"
     },
     "output_type": "display_data"
    }
   ],
   "source": [
    "f = plt.figure()\n",
    "for exp in exps:\n",
    "    ax = plt.gca()\n",
    "    ax.plot(x,res[f'lims{exp}'], label=exp)\n",
    "    #ax.plot(x,lims,label='EVEM_bm')\n",
    "    #ax.plot(x,lims2,label='EVEM')\n",
    "    #ax.plot(x,lims3,label='SGLD')\n",
    "    #ax.plot(x,lims4_cf10,label='EVEM_bm_cifar10')\n",
    "    #ax.plot(x,lims5bl, label='Baseline')\n",
    "ax.set_ylabel('Accuracy')\n",
    "ax.set_xlabel('Epsilon')\n",
    "ax.legend()\n",
    "f.show()"
   ]
  },
  {
   "cell_type": "code",
   "execution_count": 147,
   "id": "3911a7a7",
   "metadata": {},
   "outputs": [],
   "source": [
    "limsbm=lims\n",
    "limsevem=lims2\n",
    "limssgld=lims3"
   ]
  },
  {
   "cell_type": "code",
   "execution_count": 149,
   "id": "f0d77850",
   "metadata": {},
   "outputs": [],
   "source": [
    "sd = {\"limsbm\": limsbm, \"limsevem\": limsevem, \"limssgld\": limssgld, \"limscf10\": lims4_cf10, \"limsbl\": lims5bl}"
   ]
  },
  {
   "cell_type": "code",
   "execution_count": 151,
   "id": "e39cf6a4",
   "metadata": {},
   "outputs": [],
   "source": [
    "import pickle\n",
    "\n",
    "with open(\"epsilons_18_3_2022.pkl\",\"wb\") as of:\n",
    "    pickle.dump(sd, of)"
   ]
  },
  {
   "cell_type": "code",
   "execution_count": null,
   "id": "5f0318eb",
   "metadata": {},
   "outputs": [],
   "source": []
  }
 ],
 "metadata": {
  "kernelspec": {
   "display_name": "Python 3 (ipykernel)",
   "language": "python",
   "name": "python3"
  },
  "language_info": {
   "codemirror_mode": {
    "name": "ipython",
    "version": 3
   },
   "file_extension": ".py",
   "mimetype": "text/x-python",
   "name": "python",
   "nbconvert_exporter": "python",
   "pygments_lexer": "ipython3",
   "version": "3.7.3"
  }
 },
 "nbformat": 4,
 "nbformat_minor": 5
}
